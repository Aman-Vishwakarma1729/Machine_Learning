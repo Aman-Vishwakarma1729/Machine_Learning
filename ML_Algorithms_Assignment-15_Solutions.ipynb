{
 "cells": [
  {
   "cell_type": "markdown",
   "id": "89156656-c42a-4097-b835-db502c46a8de",
   "metadata": {},
   "source": [
    "#### Answer_1"
   ]
  },
  {
   "cell_type": "markdown",
   "id": "0e2f880e-d116-4d2d-a9f0-5fe0975eba9d",
   "metadata": {},
   "source": [
    "Bayes' theorem is a mathematical formula that describes the probability of an event based on prior knowledge or information. The theorem states that the probability of an event A given the occurrence of an event B is equal to the probability of event B given the occurrence of event A, multiplied by the probability of event A, and divided by the probability of event B.\n",
    "\n",
    "Mathematically, Bayes' theorem can be expressed as:\n",
    "\n",
    "* >> P(A|B) = P(B|A) x P(A) / P(B)\n",
    "\n",
    "Where:\n",
    "\n",
    "* P(A|B) is the probability of event A given event B,\n",
    "* P(B|A) is the probability of event B given event A,\n",
    "* P(A) is the prior probability of event A,\n",
    "* P(B) is the prior probability of event B.\n",
    "\n",
    "Bayes' theorem is widely used in various"
   ]
  },
  {
   "cell_type": "markdown",
   "id": "b97eae64-d370-4134-9abb-7582f4e5d972",
   "metadata": {},
   "source": [
    "#### Answer_2"
   ]
  },
  {
   "cell_type": "markdown",
   "id": "7016deb0-454d-46f1-bd6d-272cf73e6b0a",
   "metadata": {},
   "source": [
    "* >> P(A|B) = P(B|A) x P(A) / P(B)"
   ]
  },
  {
   "cell_type": "markdown",
   "id": "2f34579c-dfd8-4149-8e63-88ab1b8215b6",
   "metadata": {},
   "source": [
    "#### Answer_3"
   ]
  },
  {
   "cell_type": "markdown",
   "id": "8928153e-f6ef-40a5-902b-06026d25cd6e",
   "metadata": {},
   "source": [
    "Medical Diagnosis: Bayes' theorem is used to calculate the probability of a disease given the presence of certain symptoms. For example, if a patient has a cough and fever, Bayes' theorem can be used to calculate the probability of having a particular disease, given the prevalence of the disease in the population and the accuracy of the diagnostic tests.\n",
    "\n",
    "Spam Filtering: Bayes' theorem is used in spam filtering algorithms to classify emails as spam or not. The algorithm calculates the probability of an email being spam based on the occurrence of certain keywords or phrases, given the prior probability of spam emails and non-spam emails.\n",
    "\n",
    "Machine Learning: Bayes' theorem is used in machine learning algorithms, such as Naive Bayes classifiers, to classify data into different categories. The algorithm calculates the probability of a data point belonging to a particular category, given the prior probability of each category and the observed features of the data point.\n",
    "\n",
    "Scientific Research: Bayes' theorem is used in scientific research to update prior beliefs based on new evidence. For example, if a new study provides evidence for a hypothesis, Bayes' theorem can be used to calculate the probability of the hypothesis being true, given the prior probability and the strength of the new evidence."
   ]
  },
  {
   "cell_type": "markdown",
   "id": "6dfe86df-6173-4ecb-b1c7-1ca099df9137",
   "metadata": {},
   "source": [
    "#### Answer_4"
   ]
  },
  {
   "cell_type": "markdown",
   "id": "cb786d00-0bc4-4f33-b8dd-4320283b61e0",
   "metadata": {},
   "source": [
    "Bayes' theorem is a mathematical formula that relates conditional probabilities. Specifically, it relates the probability of an event A given the occurrence of an event B to the probability of event B given the occurrence of event A, as well as the prior probabilities of A and B.\n",
    "\n",
    "Conditional probability is a measure of the probability of an event occurring given that another event has occurred. It is expressed as the probability of the intersection of the two events divided by the probability of the conditioning event.\n",
    "\n",
    "Bayes' theorem uses conditional probabilities to update prior beliefs about the occurrence of an event based on new evidence. The formula calculates the probability of an event A given the occurrence of an event B, given the prior probability of A and B, and the conditional probability of B given A."
   ]
  },
  {
   "cell_type": "markdown",
   "id": "65289449-1b41-4209-a292-ec1f533ffcf6",
   "metadata": {},
   "source": [
    "#### Answer_5"
   ]
  },
  {
   "cell_type": "markdown",
   "id": "73bce818-0757-4efb-b34a-d0bbd860e460",
   "metadata": {},
   "source": [
    "Gaussian Naive Bayes: This classifier assumes that the data follows a Gaussian (normal) distribution. Therefore, it is suitable for continuous data with a Gaussian distribution, such as height, weight, and temperature. If the data has a continuous distribution that is not Gaussian, Gaussian Naive Bayes may not perform well.\n",
    "\n",
    "Multinomial Naive Bayes: This classifier is commonly used for text classification problems. It is suitable for discrete data where the feature vectors represent the frequencies with which certain events occur, such as the frequency of occurrence of certain words in a document.\n",
    "\n",
    "Bernoulli Naive Bayes: This classifier is also commonly used for text classification problems, where the features are binary (i.e., presence or absence of a word). It is also suitable for other discrete data, such as click-through data or image classification problems, where the features are binary."
   ]
  },
  {
   "cell_type": "markdown",
   "id": "4c7d3e6b-7e62-4a2a-a951-d8eeab14a387",
   "metadata": {},
   "source": [
    "#### Answer_6"
   ]
  },
  {
   "cell_type": "markdown",
   "id": "582b0ed9-19a3-4ea7-a74e-fd31ecb08e3f",
   "metadata": {},
   "source": [
    "To predict the class of the new instance with Naive Bayes, we need to calculate the posterior probability of each class given the values of X1 and X2.\n",
    "\n",
    "We can use the following formula to calculate the posterior probability for each class:\n",
    "\n",
    "* P(Class | X1, X2) = P(X1, X2 | Class) * P(Class) / P(X1, X2)\n",
    "\n",
    "Assuming equal prior probabilities for each class, we can simplify the formula to:\n",
    "\n",
    "* P(Class | X1, X2) = P(X1, X2 | Class)\n",
    "\n",
    "To calculate P(X1, X2 | Class), we can use the Naive Bayes assumption that the features are conditionally independent given the class. Therefore:\n",
    "\n",
    "* P(X1, X2 | Class) = P(X1 | Class) * P(X2 | Class)\n",
    "\n",
    "We can estimate P(X1 | Class) and P(X2 | Class) from the frequency table by calculating the proportion of instances in each class that have each value of X1 and X2.\n",
    "\n",
    "* For Class A:\n",
    "\n",
    "* >> P(X1=3 | A) = 4/10 = 0.4\n",
    "* >> P(X2=4 | A) = 3/10 = 0.3\n",
    "\n",
    "* P(X1=3, X2=4 | A) = P(X1=3 | A) * P(X2=4 | A) = 0.4 * 0.3 = 0.12\n",
    "\n",
    "* For Class B:\n",
    "\n",
    "* >> P(X1=3 | B) = 1/7 = 0.1429\n",
    "* >> P(X2=4 | B) = 1/7 = 0.1429\n",
    "\n",
    "* P(X1=3, X2=4 | B) = P(X1=3 | B) * P(X2=4 | B) = 0.1429 * 0.1429 = 0.0204\n",
    "\n",
    "Using these probabilities, we can calculate the posterior probability for each class:\n",
    "\n",
    "* P(A | X1=3, X2=4) = P(X1=3, X2=4 | A) = 0.12\n",
    "* P(B | X1=3, X2=4) = P(X1=3, X2=4 | B) = 0.0204\n",
    "\n",
    "Therefore, Naive Bayes would predict that the new instance with X1=3 and X2=4 belongs to Class A."
   ]
  },
  {
   "cell_type": "code",
   "execution_count": null,
   "id": "1beadc1a-b081-41cd-beef-fdd2203ea158",
   "metadata": {},
   "outputs": [],
   "source": []
  },
  {
   "cell_type": "code",
   "execution_count": null,
   "id": "07585422-ddee-4180-a2ec-dc2a5c089d3e",
   "metadata": {},
   "outputs": [],
   "source": []
  },
  {
   "cell_type": "code",
   "execution_count": null,
   "id": "f73773c6-fe93-4313-b66d-e6179e7743f3",
   "metadata": {},
   "outputs": [],
   "source": []
  },
  {
   "cell_type": "code",
   "execution_count": null,
   "id": "7eedef79-0915-40de-a6e0-488ead5aafcd",
   "metadata": {},
   "outputs": [],
   "source": []
  },
  {
   "cell_type": "code",
   "execution_count": null,
   "id": "d0bd4d3a-b21a-4f8f-83ea-7fe0c9a69f61",
   "metadata": {},
   "outputs": [],
   "source": []
  },
  {
   "cell_type": "code",
   "execution_count": null,
   "id": "6b212113-14bc-4f3d-baf9-abd53a50b220",
   "metadata": {},
   "outputs": [],
   "source": []
  },
  {
   "cell_type": "code",
   "execution_count": null,
   "id": "a542f005-4e8e-4e37-a33f-7b8a2cdef2a5",
   "metadata": {},
   "outputs": [],
   "source": []
  },
  {
   "cell_type": "code",
   "execution_count": null,
   "id": "88742cbb-16db-424e-8e44-0f7b3f84f00a",
   "metadata": {},
   "outputs": [],
   "source": []
  },
  {
   "cell_type": "code",
   "execution_count": null,
   "id": "a56dc32d-46b1-4b68-ab1c-61eff100ce0a",
   "metadata": {},
   "outputs": [],
   "source": []
  },
  {
   "cell_type": "code",
   "execution_count": null,
   "id": "6855203c-7ad5-4305-ab83-38176cdd435f",
   "metadata": {},
   "outputs": [],
   "source": []
  },
  {
   "cell_type": "code",
   "execution_count": null,
   "id": "6d1357f5-ab34-45c8-8c40-d01339bd95da",
   "metadata": {},
   "outputs": [],
   "source": []
  },
  {
   "cell_type": "code",
   "execution_count": null,
   "id": "ac2f9b8f-f08d-42d4-bf22-a34f0587b4b0",
   "metadata": {},
   "outputs": [],
   "source": []
  },
  {
   "cell_type": "code",
   "execution_count": null,
   "id": "0d3de59d-5d4b-4e1e-8ae1-ac60b33fa44c",
   "metadata": {},
   "outputs": [],
   "source": []
  },
  {
   "cell_type": "code",
   "execution_count": null,
   "id": "a710b0c2-ca02-42fd-b9ce-c9236411d325",
   "metadata": {},
   "outputs": [],
   "source": []
  },
  {
   "cell_type": "code",
   "execution_count": null,
   "id": "5af7d748-2855-43b1-b2e7-6159df893a97",
   "metadata": {},
   "outputs": [],
   "source": []
  },
  {
   "cell_type": "code",
   "execution_count": null,
   "id": "9da72880-9690-4d55-b4ce-5d5d320ffaa4",
   "metadata": {},
   "outputs": [],
   "source": []
  },
  {
   "cell_type": "code",
   "execution_count": null,
   "id": "23b25d0e-9b12-47cb-a74b-a4f885fac588",
   "metadata": {},
   "outputs": [],
   "source": []
  },
  {
   "cell_type": "code",
   "execution_count": null,
   "id": "51b75bc6-671f-4200-a0da-5ecbfd473d64",
   "metadata": {},
   "outputs": [],
   "source": []
  },
  {
   "cell_type": "code",
   "execution_count": null,
   "id": "3ab55afe-3b5b-4f0b-ae41-201e1c6bb6bb",
   "metadata": {},
   "outputs": [],
   "source": []
  },
  {
   "cell_type": "code",
   "execution_count": null,
   "id": "503989b2-0728-4a1e-8170-77d089c89856",
   "metadata": {},
   "outputs": [],
   "source": []
  },
  {
   "cell_type": "code",
   "execution_count": null,
   "id": "b8069cf8-2dee-4825-84e3-40f0566f2462",
   "metadata": {},
   "outputs": [],
   "source": []
  },
  {
   "cell_type": "code",
   "execution_count": null,
   "id": "09557047-eb59-4840-9448-de8c73fc69d6",
   "metadata": {},
   "outputs": [],
   "source": []
  },
  {
   "cell_type": "code",
   "execution_count": null,
   "id": "360ee992-a2c1-47db-b5f4-21210f7143a2",
   "metadata": {},
   "outputs": [],
   "source": []
  },
  {
   "cell_type": "code",
   "execution_count": null,
   "id": "a05f39db-67c6-4693-8ab3-7917b9a4ed0b",
   "metadata": {},
   "outputs": [],
   "source": []
  },
  {
   "cell_type": "code",
   "execution_count": null,
   "id": "5ca3cc20-4320-4e70-a738-fb3efff7620b",
   "metadata": {},
   "outputs": [],
   "source": []
  },
  {
   "cell_type": "code",
   "execution_count": null,
   "id": "7e8a5b1a-ce08-4a13-87e5-c329a26e0ec2",
   "metadata": {},
   "outputs": [],
   "source": []
  },
  {
   "cell_type": "code",
   "execution_count": null,
   "id": "cdd3172c-748a-4d9c-b56d-734dc0bb275e",
   "metadata": {},
   "outputs": [],
   "source": []
  },
  {
   "cell_type": "code",
   "execution_count": null,
   "id": "823e3d6c-dc5a-4eb1-b96c-cbdcd7fde93d",
   "metadata": {},
   "outputs": [],
   "source": []
  },
  {
   "cell_type": "code",
   "execution_count": null,
   "id": "5a2e366d-7257-4e46-b9be-08e90ba858bf",
   "metadata": {},
   "outputs": [],
   "source": []
  },
  {
   "cell_type": "code",
   "execution_count": null,
   "id": "fcaecbc4-a3b4-44c5-98c0-760a01952b09",
   "metadata": {},
   "outputs": [],
   "source": []
  }
 ],
 "metadata": {
  "kernelspec": {
   "display_name": "Python 3 (ipykernel)",
   "language": "python",
   "name": "python3"
  },
  "language_info": {
   "codemirror_mode": {
    "name": "ipython",
    "version": 3
   },
   "file_extension": ".py",
   "mimetype": "text/x-python",
   "name": "python",
   "nbconvert_exporter": "python",
   "pygments_lexer": "ipython3",
   "version": "3.10.8"
  }
 },
 "nbformat": 4,
 "nbformat_minor": 5
}
