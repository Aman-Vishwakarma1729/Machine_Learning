{
 "cells": [
  {
   "cell_type": "markdown",
   "id": "04e42f3a-2576-4b93-9124-8276b14c7756",
   "metadata": {},
   "source": [
    "#### Answer_1"
   ]
  },
  {
   "cell_type": "markdown",
   "id": "b595b3ac-8d43-4e07-972a-c87485988591",
   "metadata": {},
   "source": [
    "1. Data Collection\n",
    "2. Exploratory Data Analysis\n",
    "3. Feature Engineering\n",
    "4. Model Training\n",
    "5. Selecting Best Model\n",
    "6. Developing Web Application\n",
    "7. Deployment"
   ]
  },
  {
   "cell_type": "markdown",
   "id": "8c352129-1809-4fea-99b4-1bba62270a72",
   "metadata": {},
   "source": [
    "#### Answer_2"
   ]
  },
  {
   "cell_type": "markdown",
   "id": "0910fd4a-3eca-4f9c-b6f5-887242909177",
   "metadata": {},
   "source": [
    "* Reliability and uptime: Look for cloud providers with a proven track record of reliability and high uptime guarantees. You want a provider that can ensure your application is available and accessible to users around the clock.\n",
    "\n",
    "* Scalability: Choose a cloud provider that offers flexible scalability options, so you can easily increase or decrease resources as needed to handle changes in traffic and demand.\n",
    "\n",
    "* Security: Ensure that the cloud provider you choose has strong security measures in place, including encryption, firewalls, and access controls. Your application's data and user information should be protected from unauthorized access and data breaches.\n",
    "\n",
    "* Cost: Consider the pricing model and total cost of ownership for each cloud provider. Look for providers that offer transparent pricing, with no hidden fees or charges. Pay attention to the costs of data transfer, storage, and compute resources.\n",
    "\n",
    "* Platform and technology support: Make sure that the cloud provider supports the specific platform and technologies used by your application. For example, if you are using a specific database or programming language, ensure that the provider offers support for those technologies.\n",
    "\n",
    "* Customer support: Evaluate the quality and responsiveness of the cloud provider's customer support team. You want a provider that offers fast and reliable support to help you quickly resolve any issues that may arise.\n",
    "\n",
    "* Geographic location: Consider the geographic location of the cloud provider's data centers. Choosing a provider with data centers in locations closer to your users can improve performance and reduce latency."
   ]
  },
  {
   "cell_type": "markdown",
   "id": "25b4626f-a862-4bad-a114-71a23eb40465",
   "metadata": {},
   "source": [
    "#### Answer_4"
   ]
  },
  {
   "cell_type": "markdown",
   "id": "a382e751-aec2-4c96-8219-eadd50c32206",
   "metadata": {},
   "source": [
    "* Define user personas and use cases: Understand the target audience and use cases for your web application to ensure that the user interface design meets their needs.\n",
    "\n",
    "* Plan the user interface layout: Create a wireframe or mockup of the user interface layout, including the placement of key elements such as navigation, content areas, and calls-to-action.\n",
    "\n",
    "* Choose a responsive design framework: There are many responsive design frameworks available, such as Bootstrap and Foundation, which provide pre-built CSS styles and JavaScript components for building responsive layouts.\n",
    "\n",
    "* Use flexible grids and fluid layouts: Design flexible grids and fluid layouts that can adapt to different screen sizes and resolutions. Use relative measurements such as percentages and ems to ensure that the design scales appropriately.\n",
    "\n",
    "* Optimize for mobile devices: Consider the unique characteristics of mobile devices, such as smaller screens and touch-based interactions, when designing the user interface. Use touch-friendly elements such as larger buttons and form inputs, and consider implementing mobile-specific features such as swipe gestures.\n",
    "\n",
    "* Test and iterate: Test the user interface on different devices and screen sizes to ensure that it works as intended. Use user feedback to identify areas for improvement and iterate on the design."
   ]
  },
  {
   "cell_type": "markdown",
   "id": "648bf829-6010-42b4-afe2-e487a99fa274",
   "metadata": {},
   "source": [
    "#### Answer_5"
   ]
  },
  {
   "cell_type": "markdown",
   "id": "f299f584-3461-4748-8757-052a745ff9d6",
   "metadata": {},
   "source": [
    "* We used pickle for pickling the train model as file so that it can be used for deployment purpose.\n",
    "* We use render_templates so that html templates can be rendered and web page is formed to collect data and give prediction output.\n",
    "* We used GET,POST method to show webpage elements and to collect data Posted by user anf tham give output respectively.\n",
    "* We used flask for creating an API.\n",
    "* WE deployed this webapplication on AWS using codepipline and Elastibean stalk."
   ]
  },
  {
   "cell_type": "code",
   "execution_count": null,
   "id": "c5402616-9049-41da-9a16-bd6845e030c3",
   "metadata": {},
   "outputs": [],
   "source": []
  },
  {
   "cell_type": "code",
   "execution_count": null,
   "id": "74130b4a-d50e-4f97-9ba7-f906f8f368da",
   "metadata": {},
   "outputs": [],
   "source": []
  },
  {
   "cell_type": "code",
   "execution_count": null,
   "id": "e1eb87ea-cfc3-40dd-9931-8a0d6ced7156",
   "metadata": {},
   "outputs": [],
   "source": []
  },
  {
   "cell_type": "code",
   "execution_count": null,
   "id": "3a103ae8-5fec-4c41-ac02-0714ac14cb60",
   "metadata": {},
   "outputs": [],
   "source": []
  },
  {
   "cell_type": "code",
   "execution_count": null,
   "id": "4425d400-62a3-4a59-9623-9ef81ae7ebcc",
   "metadata": {},
   "outputs": [],
   "source": []
  },
  {
   "cell_type": "code",
   "execution_count": null,
   "id": "8f262b8c-eeb2-48cd-ad11-4c8b63d2334b",
   "metadata": {},
   "outputs": [],
   "source": []
  },
  {
   "cell_type": "code",
   "execution_count": null,
   "id": "5e0f110a-f9c1-44be-9d94-9e993650ffe6",
   "metadata": {},
   "outputs": [],
   "source": []
  },
  {
   "cell_type": "code",
   "execution_count": null,
   "id": "42a096e4-d41b-4b5e-afb2-b102b0f92f2b",
   "metadata": {},
   "outputs": [],
   "source": []
  },
  {
   "cell_type": "code",
   "execution_count": null,
   "id": "a4a8fe60-306e-4d0d-be7c-67ca977cf191",
   "metadata": {},
   "outputs": [],
   "source": []
  },
  {
   "cell_type": "code",
   "execution_count": null,
   "id": "e2e6f919-79f7-41e8-acd7-4d14e80f7ee9",
   "metadata": {},
   "outputs": [],
   "source": []
  },
  {
   "cell_type": "code",
   "execution_count": null,
   "id": "b68d8b06-5e24-445c-ab4b-042e684019e1",
   "metadata": {},
   "outputs": [],
   "source": []
  },
  {
   "cell_type": "code",
   "execution_count": null,
   "id": "bbd67eb8-1338-49b5-89f5-1736b4f9b304",
   "metadata": {},
   "outputs": [],
   "source": []
  },
  {
   "cell_type": "code",
   "execution_count": null,
   "id": "015bfafa-ecb8-41fa-8705-baaaa560478b",
   "metadata": {},
   "outputs": [],
   "source": []
  }
 ],
 "metadata": {
  "kernelspec": {
   "display_name": "Python 3 (ipykernel)",
   "language": "python",
   "name": "python3"
  },
  "language_info": {
   "codemirror_mode": {
    "name": "ipython",
    "version": 3
   },
   "file_extension": ".py",
   "mimetype": "text/x-python",
   "name": "python",
   "nbconvert_exporter": "python",
   "pygments_lexer": "ipython3",
   "version": "3.10.8"
  }
 },
 "nbformat": 4,
 "nbformat_minor": 5
}
