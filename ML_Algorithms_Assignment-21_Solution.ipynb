{
 "cells": [
  {
   "cell_type": "code",
   "execution_count": 1,
   "id": "64e58a97-e0b2-4a72-bf4a-2b2d3f533d2e",
   "metadata": {},
   "outputs": [],
   "source": [
    "from sklearn.feature_selection import RFE ## RFE (Recursive Feature Elimination) is popular automated feature selection method.\n",
    "from sklearn.linear_model import LogisticRegression\n",
    "from sklearn.ensemble import RandomForestClassifier"
   ]
  },
  {
   "cell_type": "code",
   "execution_count": null,
   "id": "42892283-85f6-41e8-aed1-597e5bb4e5e1",
   "metadata": {},
   "outputs": [],
   "source": [
    "## For whichever model we have to perform feature selection\n",
    "\n",
    "models = {\n",
    "           'Logistic Regression' : LogisticRegression(),\n",
    "           'Random Forest'       : RandomForestClassifier()\n",
    "}"
   ]
  },
  {
   "cell_type": "code",
   "execution_count": 2,
   "id": "7d06e3c0-535d-4d16-9541-fdfb501b6a27",
   "metadata": {},
   "outputs": [],
   "source": [
    "def best_features(X,Y,dataset,models):  ## X = Independent features, Y = Dependent Features\n",
    "    Features = {}    ## Selected important features\n",
    "    for i in range(len(models)):\n",
    "        model = list(models.values())[i] ## Base models for which we want to do feature selection\n",
    "        rfe = RFE(estimator=model,n_features_to_select=5)  ## Selecting top 5 most important features\n",
    "        rfe.fit(X,Y)\n",
    "        selected_features = list(dataset.feature_names[rfe.support_]) ## To obtain selected features\n",
    "        Features[list(models.keys())[i]] = selected_features\n",
    "    return Features"
   ]
  },
  {
   "cell_type": "code",
   "execution_count": 4,
   "id": "388e15f1-857f-429f-a702-e30a45a9247f",
   "metadata": {},
   "outputs": [],
   "source": [
    "from sklearn.impute import SimpleImputer          ## Imputing missing values\n",
    "from sklearn.preprocessing import StandardScaler  ## Scaling the values using standardizatio \n",
    "from sklearn.preprocessing import OneHotEncoder   ## Encoding categorical value\n",
    "from sklearn.pipeline import Pipeline             ## for creating pipelines\n",
    "from sklearn.compose import ColumnTransformer     ## for combining pipelines"
   ]
  },
  {
   "cell_type": "code",
   "execution_count": 3,
   "id": "22108e17-5cfe-4f39-9c5d-0a1e2dfb380d",
   "metadata": {},
   "outputs": [],
   "source": [
    "categorical_columns = [\"contains the columns name that are categorical type\"]\n",
    "numerical_columns = [\"contains the columns name that are numerical type\"]"
   ]
  },
  {
   "cell_type": "code",
   "execution_count": 6,
   "id": "95a9957a-400b-45fd-923c-8ac1ecef743c",
   "metadata": {},
   "outputs": [],
   "source": [
    "numerical_pipeline = Pipeline(\n",
    "  steps=[\n",
    "      ('imputer',SimpleImputer(strategy='mean')),\n",
    "      ('scaler',StandardScaler)\n",
    "  ]\n",
    ")\n",
    "\n",
    "categorical_pipeline = Pipeline(\n",
    "  steps=[\n",
    "      ('imputer',SimpleImputer(strategy='most_frequent')),\n",
    "      ('encoder',StandardScaler)\n",
    "  ]\n",
    ")"
   ]
  },
  {
   "cell_type": "code",
   "execution_count": 8,
   "id": "76bc18bd-fd7b-4c21-a6ac-6c976a553782",
   "metadata": {},
   "outputs": [],
   "source": [
    "preprocessor = ColumnTransformer([\n",
    "    ('numerical_pipeline',numerical_pipeline,numerical_columns),\n",
    "    ('categorical_pipeline',categorical_pipeline,categorical_columns)\n",
    "])"
   ]
  },
  {
   "cell_type": "code",
   "execution_count": null,
   "id": "24f06131-7382-43f2-80d1-b7ccd8a22402",
   "metadata": {},
   "outputs": [],
   "source": []
  },
  {
   "cell_type": "code",
   "execution_count": null,
   "id": "240e9bbc-5c4f-4bb9-b8f1-57ece4ca1653",
   "metadata": {},
   "outputs": [],
   "source": []
  },
  {
   "cell_type": "code",
   "execution_count": null,
   "id": "de82e64e-bd97-4e8b-bd6f-856bc9f5d2de",
   "metadata": {},
   "outputs": [],
   "source": []
  },
  {
   "cell_type": "code",
   "execution_count": null,
   "id": "4dcddcb5-2894-4a3a-b5b6-c8f9553e6a90",
   "metadata": {},
   "outputs": [],
   "source": []
  },
  {
   "cell_type": "code",
   "execution_count": null,
   "id": "075fad4d-b869-4728-b83b-b26bf848cc0c",
   "metadata": {},
   "outputs": [],
   "source": []
  },
  {
   "cell_type": "code",
   "execution_count": null,
   "id": "e71b57a0-79c1-492b-be6c-d5a70bf689f3",
   "metadata": {},
   "outputs": [],
   "source": []
  },
  {
   "cell_type": "code",
   "execution_count": null,
   "id": "f48e53d5-b19a-4e04-9b73-a8a8c289d2b6",
   "metadata": {},
   "outputs": [],
   "source": []
  },
  {
   "cell_type": "code",
   "execution_count": null,
   "id": "7d4245b9-7b6a-4ea2-b1ad-b794d0ab884c",
   "metadata": {},
   "outputs": [],
   "source": []
  },
  {
   "cell_type": "code",
   "execution_count": null,
   "id": "9b9c0128-8db1-4899-ba76-ead90d200317",
   "metadata": {},
   "outputs": [],
   "source": []
  },
  {
   "cell_type": "code",
   "execution_count": null,
   "id": "5f85b38e-ed0a-4c73-9dba-6436d3f9a71b",
   "metadata": {},
   "outputs": [],
   "source": []
  }
 ],
 "metadata": {
  "kernelspec": {
   "display_name": "Python 3 (ipykernel)",
   "language": "python",
   "name": "python3"
  },
  "language_info": {
   "codemirror_mode": {
    "name": "ipython",
    "version": 3
   },
   "file_extension": ".py",
   "mimetype": "text/x-python",
   "name": "python",
   "nbconvert_exporter": "python",
   "pygments_lexer": "ipython3",
   "version": "3.10.8"
  }
 },
 "nbformat": 4,
 "nbformat_minor": 5
}
