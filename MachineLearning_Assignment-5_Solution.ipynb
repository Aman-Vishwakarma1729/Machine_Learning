{
 "cells": [
  {
   "cell_type": "markdown",
   "id": "04fd9e03-5e48-4d88-92be-a513a385365a",
   "metadata": {},
   "source": [
    "#### Answer_1"
   ]
  },
  {
   "cell_type": "markdown",
   "id": "43f86ffa-e88b-4ad9-8f07-10d8b1b43364",
   "metadata": {},
   "source": [
    "Both Ordinal Encoding and Label Encoding are methods used to convert categorical data into numerical format to make it suitable for machine learning algorithms. However, there are some differences between the two:\n",
    "\n",
    "* Label Encoding assigns a unique number to each category in a categorical variable. For example, if you have a variable \"Color\" with categories [\"Red\", \"Green\", \"Blue\"], Label Encoding will transform it into [0, 1, 2]. This method does not assume any specific order or ranking among the categories.\n",
    "\n",
    "* Ordinal Encoding, on the other hand, also assigns a numerical value to each category, but this value is based on the order or ranking of the categories. For example, if you have a variable \"Size\" with categories [\"Small\", \"Medium\", \"Large\"], Ordinal Encoding will transform it into [0, 1, 2], where \"Small\" is assigned the value of 0, \"Medium\" is assigned the value of 1, and \"Large\" is assigned the value of 2.\n",
    "\n",
    "In general, Ordinal Encoding should be used when there is a clear order or ranking among the categories, and this order is relevant to the problem you are trying to solve. For example, if you are working with a dataset of clothing sizes and you know that \"Large\" is bigger than \"Medium\" and \"Small\", then using Ordinal Encoding would make sense.\n",
    "\n",
    "Label Encoding, on the other hand, can be used when there is no clear order or ranking among the categories, or when the order is not relevant to the problem you are trying to solve. For example, if you are working with a dataset of car brands and you just need to assign a numerical value to each brand, then using Label Encoding would be sufficient."
   ]
  },
  {
   "cell_type": "markdown",
   "id": "fc606c97-47ac-44b5-9ee2-f93f24761130",
   "metadata": {},
   "source": [
    "#### Answer_2"
   ]
  },
  {
   "cell_type": "markdown",
   "id": "e12b3bad-587d-4a96-bb34-507dd98d19c6",
   "metadata": {},
   "source": [
    "Target Guided Ordinal Encoding is a type of ordinal encoding that uses the target variable to assign numerical values to the categories of a categorical variable. It works by calculating the mean of the target variable for each category and then assigning a numerical value based on the order of these means.\n",
    "\n",
    "Here are the steps to perform Target Guided Ordinal Encoding:\n",
    "\n",
    "Calculate the mean of the target variable for each category of the categorical variable.\n",
    "Sort the categories based on their mean values in ascending or descending order.\n",
    "Assign a numerical value to each category based on their order in the sorted list.\n",
    "For example, suppose you have a categorical variable called \"City\" with four categories: \"New York\", \"Los Angeles\", \"Chicago\", and \"Houston\". You want to encode this variable using Target Guided Ordinal Encoding based on the target variable, which is the average income of people in each city.\n",
    "\n",
    "Here are the steps to perform Target Guided Ordinal Encoding:\n",
    "\n",
    "Calculate the mean income for each city:\n",
    "\n",
    "* New York: $100,000\n",
    "* Los Angeles: $90,000\n",
    "* Chicago: $80,000\n",
    "* Houston: $70,000\n",
    "\n",
    "Sort the cities based on their mean income in descending order:\n",
    "\n",
    "* New York\n",
    "* Los Angeles\n",
    "* Chicago\n",
    "* Houston\n",
    "\n",
    "Assign numerical values to each city based on their order in the sorted list:\n",
    "\n",
    "* New York: 3\n",
    "* Los Angeles: 2\n",
    "* Chicago: 1\n",
    "* Houston: 0\n",
    "\n",
    "In this example, Target Guided Ordinal Encoding assigns a higher value to cities with higher average incomes.\n",
    "\n",
    "Target Guided Ordinal Encoding can be useful when there is a strong relationship between the target variable and the categorical variable, and the order of the categories is not clear or meaningful. For example, in a marketing campaign dataset, you might use Target Guided Ordinal Encoding to encode the \"Occupation\" variable based on the response rate of each occupation to the previous marketing campaign. This would help the model to capture the relationship between occupation and response rate in a more meaningful way than traditional ordinal encoding."
   ]
  },
  {
   "cell_type": "markdown",
   "id": "b6f823a6-5f2a-4193-84ff-ccca896649ce",
   "metadata": {},
   "source": [
    "#### Answer_3"
   ]
  },
  {
   "cell_type": "markdown",
   "id": "aa131ee9-544a-4cb7-87c7-97f8b98fc4d1",
   "metadata": {},
   "source": [
    "Covariance is a statistical measure that describes the relationship between two variables. Specifically, it measures how much two variables change together, or in other words, how much they co-vary. More precisely, it measures the degree to which the two variables vary together, either in a positive or negative way.\n",
    "\n",
    "Covariance is important in statistical analysis because it helps to understand the relationship between two variables. A positive covariance indicates that the two variables tend to increase or decrease together, while a negative covariance indicates that one variable tends to increase while the other decreases. If the covariance is close to zero, then the two variables are considered to be independent of each other.\n",
    "\n",
    "Covariance can be calculated using the following formula:\n",
    "\n",
    "* cov(X,Y) = Σ[(Xi - Xmean)(Yi - Ymean)] / (n - 1)\n",
    "\n",
    "Where X and Y are two variables, Xi and Yi are the individual observations for each variable, Xmean and Ymean are the sample means of X and Y respectively, and n is the sample size.\n",
    "\n",
    "The resulting value of covariance can be positive, negative, or zero. A positive covariance means that the two variables tend to increase or decrease together, while a negative covariance means that one variable tends to increase while the other decreases. A covariance of zero indicates that there is no linear relationship between the two variables."
   ]
  },
  {
   "cell_type": "markdown",
   "id": "01f899fb-bbca-42ff-9b6a-67217d9285a3",
   "metadata": {},
   "source": [
    "#### Answer_4"
   ]
  },
  {
   "cell_type": "code",
   "execution_count": 2,
   "id": "71cbd61d-24a1-41fd-9800-c32de1859233",
   "metadata": {},
   "outputs": [],
   "source": [
    "import pandas as pd"
   ]
  },
  {
   "cell_type": "code",
   "execution_count": 4,
   "id": "5960026e-5a0d-49c2-a245-92eee1f83e2a",
   "metadata": {},
   "outputs": [],
   "source": [
    "df = pd.DataFrame({\n",
    "    \"Color\" : ['red','green','blue'],\n",
    "    \"Size\" : ['small','medium','large'],\n",
    "    \"Material\" : ['wood','metal','plastic']\n",
    "})"
   ]
  },
  {
   "cell_type": "code",
   "execution_count": 32,
   "id": "e773f21b-5dbf-4dfe-90ea-51be57570c99",
   "metadata": {},
   "outputs": [
    {
     "data": {
      "text/html": [
       "<div>\n",
       "<style scoped>\n",
       "    .dataframe tbody tr th:only-of-type {\n",
       "        vertical-align: middle;\n",
       "    }\n",
       "\n",
       "    .dataframe tbody tr th {\n",
       "        vertical-align: top;\n",
       "    }\n",
       "\n",
       "    .dataframe thead th {\n",
       "        text-align: right;\n",
       "    }\n",
       "</style>\n",
       "<table border=\"1\" class=\"dataframe\">\n",
       "  <thead>\n",
       "    <tr style=\"text-align: right;\">\n",
       "      <th></th>\n",
       "      <th>Color</th>\n",
       "      <th>Size</th>\n",
       "      <th>Material</th>\n",
       "      <th>color_label_encoded</th>\n",
       "    </tr>\n",
       "  </thead>\n",
       "  <tbody>\n",
       "    <tr>\n",
       "      <th>0</th>\n",
       "      <td>red</td>\n",
       "      <td>small</td>\n",
       "      <td>wood</td>\n",
       "      <td>2</td>\n",
       "    </tr>\n",
       "    <tr>\n",
       "      <th>1</th>\n",
       "      <td>green</td>\n",
       "      <td>medium</td>\n",
       "      <td>metal</td>\n",
       "      <td>1</td>\n",
       "    </tr>\n",
       "    <tr>\n",
       "      <th>2</th>\n",
       "      <td>blue</td>\n",
       "      <td>large</td>\n",
       "      <td>plastic</td>\n",
       "      <td>0</td>\n",
       "    </tr>\n",
       "  </tbody>\n",
       "</table>\n",
       "</div>"
      ],
      "text/plain": [
       "   Color    Size Material  color_label_encoded\n",
       "0    red   small     wood                    2\n",
       "1  green  medium    metal                    1\n",
       "2   blue   large  plastic                    0"
      ]
     },
     "execution_count": 32,
     "metadata": {},
     "output_type": "execute_result"
    }
   ],
   "source": [
    "df"
   ]
  },
  {
   "cell_type": "code",
   "execution_count": 6,
   "id": "2e299b90-e8b9-492a-bac4-1259a95fae58",
   "metadata": {},
   "outputs": [],
   "source": [
    "from sklearn.preprocessing import LabelEncoder"
   ]
  },
  {
   "cell_type": "code",
   "execution_count": 40,
   "id": "d8a77c70-c237-477f-b0a5-4bae1716efa1",
   "metadata": {},
   "outputs": [],
   "source": [
    "color_encoded = LabelEncoder.fit_transform(df['Color'])\n",
    "size_encoded = LabelEncoder.fit_transform(df['Size'])\n",
    "material_encoded = LabelEncoder.fit_transform(df['Material'])"
   ]
  },
  {
   "cell_type": "code",
   "execution_count": 17,
   "id": "08445323-f2d4-4dd5-9bd7-a5e5927272c0",
   "metadata": {},
   "outputs": [
    {
     "data": {
      "text/plain": [
       "array([2, 1, 0])"
      ]
     },
     "execution_count": 17,
     "metadata": {},
     "output_type": "execute_result"
    }
   ],
   "source": [
    "color_encoded"
   ]
  },
  {
   "cell_type": "code",
   "execution_count": 41,
   "id": "51862ed9-d15d-419f-9d51-ac4c65061325",
   "metadata": {},
   "outputs": [
    {
     "data": {
      "text/plain": [
       "array([2, 1, 0])"
      ]
     },
     "execution_count": 41,
     "metadata": {},
     "output_type": "execute_result"
    }
   ],
   "source": [
    "size_encoded"
   ]
  },
  {
   "cell_type": "code",
   "execution_count": 42,
   "id": "3fdb825b-8d64-4675-bb3c-9c476a4410ab",
   "metadata": {},
   "outputs": [
    {
     "data": {
      "text/plain": [
       "array([2, 0, 1])"
      ]
     },
     "execution_count": 42,
     "metadata": {},
     "output_type": "execute_result"
    }
   ],
   "source": [
    "material_encoded"
   ]
  },
  {
   "cell_type": "code",
   "execution_count": 43,
   "id": "a23bd975-2324-4a35-ac10-937101169bc6",
   "metadata": {},
   "outputs": [],
   "source": [
    "df['color_label_encoded'] = color_encoded\n",
    "df['size_label_encoded'] = size_encoded\n",
    "df['material_label_encoded'] = material_encoded"
   ]
  },
  {
   "cell_type": "code",
   "execution_count": 44,
   "id": "dc027846-1596-4c74-97d4-3df6f4039db0",
   "metadata": {},
   "outputs": [
    {
     "data": {
      "text/html": [
       "<div>\n",
       "<style scoped>\n",
       "    .dataframe tbody tr th:only-of-type {\n",
       "        vertical-align: middle;\n",
       "    }\n",
       "\n",
       "    .dataframe tbody tr th {\n",
       "        vertical-align: top;\n",
       "    }\n",
       "\n",
       "    .dataframe thead th {\n",
       "        text-align: right;\n",
       "    }\n",
       "</style>\n",
       "<table border=\"1\" class=\"dataframe\">\n",
       "  <thead>\n",
       "    <tr style=\"text-align: right;\">\n",
       "      <th></th>\n",
       "      <th>Color</th>\n",
       "      <th>Size</th>\n",
       "      <th>Material</th>\n",
       "      <th>color_label_encoded</th>\n",
       "      <th>size_label_encoded</th>\n",
       "      <th>material_label_encoded</th>\n",
       "    </tr>\n",
       "  </thead>\n",
       "  <tbody>\n",
       "    <tr>\n",
       "      <th>0</th>\n",
       "      <td>red</td>\n",
       "      <td>small</td>\n",
       "      <td>wood</td>\n",
       "      <td>2</td>\n",
       "      <td>2</td>\n",
       "      <td>2</td>\n",
       "    </tr>\n",
       "    <tr>\n",
       "      <th>1</th>\n",
       "      <td>green</td>\n",
       "      <td>medium</td>\n",
       "      <td>metal</td>\n",
       "      <td>1</td>\n",
       "      <td>1</td>\n",
       "      <td>0</td>\n",
       "    </tr>\n",
       "    <tr>\n",
       "      <th>2</th>\n",
       "      <td>blue</td>\n",
       "      <td>large</td>\n",
       "      <td>plastic</td>\n",
       "      <td>0</td>\n",
       "      <td>0</td>\n",
       "      <td>1</td>\n",
       "    </tr>\n",
       "  </tbody>\n",
       "</table>\n",
       "</div>"
      ],
      "text/plain": [
       "   Color    Size Material  color_label_encoded  size_label_encoded  \\\n",
       "0    red   small     wood                    2                   2   \n",
       "1  green  medium    metal                    1                   1   \n",
       "2   blue   large  plastic                    0                   0   \n",
       "\n",
       "   material_label_encoded  \n",
       "0                       2  \n",
       "1                       0  \n",
       "2                       1  "
      ]
     },
     "execution_count": 44,
     "metadata": {},
     "output_type": "execute_result"
    }
   ],
   "source": [
    "df"
   ]
  },
  {
   "cell_type": "markdown",
   "id": "09fa39e8-02c3-4c2a-960d-d2339a444d98",
   "metadata": {},
   "source": [
    "#### Answer_5"
   ]
  },
  {
   "cell_type": "code",
   "execution_count": 45,
   "id": "9e6d3bf9-e152-45f0-a5c1-56967fbdf853",
   "metadata": {},
   "outputs": [
    {
     "name": "stdout",
     "output_type": "stream",
     "text": [
      "[[8.75e+01 1.75e+05 3.50e+01]\n",
      " [1.75e+05 3.50e+08 7.00e+04]\n",
      " [3.50e+01 7.00e+04 1.40e+01]]\n"
     ]
    }
   ],
   "source": [
    "import numpy as np\n",
    "import pandas as pd\n",
    "\n",
    "\n",
    "data = {'Age': [25, 30, 35, 40, 45, 50],\n",
    "        'Income': [50000, 60000, 70000, 80000, 90000, 100000],\n",
    "        'Education': [12, 14, 16, 18, 20, 22]}\n",
    "\n",
    "df = pd.DataFrame(data)\n",
    "\n",
    "\n",
    "cov_matrix = np.cov(df.T)\n",
    "\n",
    "\n",
    "print(cov_matrix)\n"
   ]
  },
  {
   "cell_type": "markdown",
   "id": "cc776ffa-02a7-4137-a57c-a5924a02af1f",
   "metadata": {},
   "source": [
    "#### Answer_6"
   ]
  },
  {
   "cell_type": "code",
   "execution_count": 50,
   "id": "28083274-ef84-4fda-a874-093257642cbf",
   "metadata": {},
   "outputs": [],
   "source": [
    "Gender : ['Male','Female']\n",
    "Education_Level : ['High Scholl','Bacherlors','Masters','PhD']\n",
    "Employment_Status : ['Unemployment','Par-time','Full-time']  "
   ]
  },
  {
   "cell_type": "markdown",
   "id": "bfb92444-639a-4743-9b8e-8c5c3fe394ef",
   "metadata": {},
   "source": [
    "* For Gender we can use OHE(One Hot Encoding) and there is only two categorical variable are there.\n",
    "* For Education Level we can use Ordinal Encoding as there is inherent ranking in between categorical varible.\n",
    "* For Employment Status we can use Ordinal Encoding or Nominal Encoding."
   ]
  },
  {
   "cell_type": "markdown",
   "id": "27332776-f7b0-458c-be59-b03ca71f3287",
   "metadata": {},
   "source": [
    "#### Answer_7"
   ]
  },
  {
   "cell_type": "code",
   "execution_count": 51,
   "id": "7c2e8ef8-3224-41c6-bc8e-baffa4b9ae38",
   "metadata": {},
   "outputs": [
    {
     "name": "stdout",
     "output_type": "stream",
     "text": [
      "             Temperature  Humidity\n",
      "Temperature         87.5     175.0\n",
      "Humidity           175.0     350.0\n"
     ]
    },
    {
     "name": "stderr",
     "output_type": "stream",
     "text": [
      "/tmp/ipykernel_1164/2288181179.py:12: FutureWarning: The default value of numeric_only in DataFrame.cov is deprecated. In a future version, it will default to False. Select only valid columns or specify the value of numeric_only to silence this warning.\n",
      "  cov_matrix = df.cov()\n"
     ]
    }
   ],
   "source": [
    "import pandas as pd\n",
    "\n",
    "\n",
    "data = {'Temperature': [25, 30, 35, 40, 45, 50],\n",
    "        'Humidity': [50, 60, 70, 80, 90, 100],\n",
    "        'Weather Condition': ['Sunny', 'Cloudy', 'Rainy', 'Sunny', 'Rainy', 'Cloudy'],\n",
    "        'Wind Direction': ['North', 'South', 'East', 'West', 'North', 'South']}\n",
    "\n",
    "df = pd.DataFrame(data)\n",
    "\n",
    "\n",
    "cov_matrix = df.cov()\n",
    "\n",
    "\n",
    "print(cov_matrix)"
   ]
  },
  {
   "cell_type": "code",
   "execution_count": null,
   "id": "3235f585-2ec2-45c9-b006-7af5ea5add9c",
   "metadata": {},
   "outputs": [],
   "source": []
  },
  {
   "cell_type": "code",
   "execution_count": null,
   "id": "223c206e-5f24-44fe-87b2-3ad47604df53",
   "metadata": {},
   "outputs": [],
   "source": []
  },
  {
   "cell_type": "code",
   "execution_count": null,
   "id": "125c0e32-63dc-4bd9-a646-9a8181aacf9b",
   "metadata": {},
   "outputs": [],
   "source": []
  },
  {
   "cell_type": "code",
   "execution_count": null,
   "id": "7c2aaf99-189d-49ba-96b9-8a1990ee42e6",
   "metadata": {},
   "outputs": [],
   "source": []
  },
  {
   "cell_type": "code",
   "execution_count": null,
   "id": "a91962cf-9e01-46ae-b5ce-cac0d5c09eff",
   "metadata": {},
   "outputs": [],
   "source": []
  }
 ],
 "metadata": {
  "kernelspec": {
   "display_name": "Python 3 (ipykernel)",
   "language": "python",
   "name": "python3"
  },
  "language_info": {
   "codemirror_mode": {
    "name": "ipython",
    "version": 3
   },
   "file_extension": ".py",
   "mimetype": "text/x-python",
   "name": "python",
   "nbconvert_exporter": "python",
   "pygments_lexer": "ipython3",
   "version": "3.10.8"
  }
 },
 "nbformat": 4,
 "nbformat_minor": 5
}
