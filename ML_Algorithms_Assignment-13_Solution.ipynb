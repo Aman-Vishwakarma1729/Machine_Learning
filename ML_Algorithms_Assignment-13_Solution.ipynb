{
 "cells": [
  {
   "cell_type": "markdown",
   "id": "5f055372-864f-43b0-b20c-2099f14d948d",
   "metadata": {},
   "source": [
    "#### Answer_1"
   ]
  },
  {
   "cell_type": "markdown",
   "id": "087721fc-7919-4508-a1a8-782f1cb79e8c",
   "metadata": {},
   "source": [
    "Polynomial functions and kernel functions are both used in machine learning algorithms, but they serve different purposes.\n",
    "\n",
    "Polynomial functions are a type of mathematical function that involves a variable raised to different powers and multiplied by different coefficients. In machine learning, polynomial functions can be used as basis functions to transform the input features of a dataset into a higher-dimensional feature space, where linear models can more effectively separate the classes of the data. This is known as the polynomial kernel.\n",
    "\n",
    "Kernel functions, on the other hand, are a type of function that measure the similarity between pairs of data points in a dataset. They are used in many machine learning algorithms, such as support vector machines (SVMs), to transform the input data into a higher-dimensional space where linear decision boundaries can be more easily constructed. One common type of kernel function is the radial basis function (RBF) kernel, which measures the similarity between data points based on their distance from each other.\n",
    "\n",
    "In some cases, polynomial functions can be used as a type of kernel function. For example, the polynomial kernel can be used in SVMs to transform the input data into a higher-dimensional feature space using polynomial basis functions. However, not all kernel functions are polynomial functions, and not all polynomial functions are kernel functions. The choice of kernel function depends on the specific machine learning algorithm and the characteristics of the data being analyzed."
   ]
  },
  {
   "cell_type": "markdown",
   "id": "752773cd-95f0-42dd-a710-e8172932f9e8",
   "metadata": {},
   "source": [
    "#### Answer_2"
   ]
  },
  {
   "cell_type": "code",
   "execution_count": 1,
   "id": "e12d1357-21b9-420f-9c2f-9ffdeb0c6c6b",
   "metadata": {},
   "outputs": [
    {
     "name": "stdout",
     "output_type": "stream",
     "text": [
      "Accuracy: 0.9777777777777777\n"
     ]
    }
   ],
   "source": [
    "from sklearn import datasets\n",
    "from sklearn.model_selection import train_test_split\n",
    "from sklearn.svm import SVC\n",
    "from sklearn.metrics import accuracy_score\n",
    "\n",
    "iris = datasets.load_iris()\n",
    "X = iris.data\n",
    "y = iris.target\n",
    "\n",
    "X_train, X_test, y_train, y_test = train_test_split(X, y, test_size=0.3, random_state=42)\n",
    "\n",
    "svm = SVC(kernel='poly', degree=3)\n",
    "\n",
    "svm.fit(X_train, y_train)\n",
    "\n",
    "y_pred = svm.predict(X_test)\n",
    "\n",
    "accuracy = accuracy_score(y_test, y_pred)\n",
    "print('Accuracy:', accuracy)\n"
   ]
  },
  {
   "cell_type": "markdown",
   "id": "f4ccc13e-4725-4923-9f50-a181546588b0",
   "metadata": {},
   "source": [
    "#### Answer_3"
   ]
  },
  {
   "cell_type": "markdown",
   "id": "4d8848d3-564c-4e77-a986-ada6bdd376fc",
   "metadata": {},
   "source": [
    "Epsilon parameter: The epsilon parameter controls the width of the ε-tube around the regression line. It determines the margin of error that is allowed in the prediction. A small value of epsilon means that the SVR model is less tolerant of errors, while a large value of epsilon means that the model is more tolerant of errors. The choice of epsilon depends on the nature of the problem and the desired level of accuracy."
   ]
  },
  {
   "cell_type": "markdown",
   "id": "64c6f91b-d07e-4720-84d7-75677a1ad54b",
   "metadata": {},
   "source": [
    "#### Answer_4"
   ]
  },
  {
   "cell_type": "markdown",
   "id": "528fabcf-23a1-4fb1-b752-fa5a32b8fad0",
   "metadata": {},
   "source": [
    "The choice of kernel function, C parameter, epsilon parameter, and gamma parameter can all have a significant impact on the performance of Support Vector Regression (SVR).\n",
    "\n",
    "* Kernel function: The kernel function determines how the input data is transformed into a higher-dimensional space to better separate the data points. Different kernel functions have different properties, such as smoothness or nonlinearity. The most commonly used kernel functions are linear, polynomial, and radial basis function (RBF). The choice of kernel function depends on the nature of the data and the problem being solved. For example, if the data has a high degree of nonlinearity, a polynomial or RBF kernel may be more appropriate than a linear kernel.\n",
    "\n",
    "* C parameter: The C parameter controls the trade-off between achieving a low training error and a low testing error. A small value of C will create a wider margin, allowing more training errors, but potentially better generalization to the test data. A large value of C will create a narrower margin, potentially overfitting the training data. The value of C depends on the amount of noise in the data and the complexity of the model. If the data has a high level of noise, a smaller value of C may be preferred. However, if the model is not complex enough to fit the data well, a larger value of C may be needed.\n",
    "\n",
    "* Epsilon parameter: The epsilon parameter controls the width of the ε-tube around the regression line. It determines the margin of error that is allowed in the prediction. A small value of epsilon means that the SVR model is less tolerant of errors, while a large value of epsilon means that the model is more tolerant of errors. The choice of epsilon depends on the nature of the problem and the desired level of accuracy.\n",
    "\n",
    "* Gamma parameter: The gamma parameter controls the width of the RBF kernel function. A small value of gamma means that the kernel function has a wider range, making it more likely to include more data points in each support vector. A large value of gamma means that the kernel function has a narrower range, making it more likely to include fewer data points in each support vector. The choice of gamma depends on the nature of the data and the desired level of complexity."
   ]
  },
  {
   "cell_type": "markdown",
   "id": "62141b19-d37f-4576-a1da-7d6363afd462",
   "metadata": {},
   "source": [
    "#### Answer_5"
   ]
  },
  {
   "cell_type": "code",
   "execution_count": 2,
   "id": "0070c3e5-18c3-4fd5-a0b2-538cf35d3af6",
   "metadata": {},
   "outputs": [
    {
     "name": "stdout",
     "output_type": "stream",
     "text": [
      "Accuracy: 0.9777777777777777\n"
     ]
    }
   ],
   "source": [
    "from sklearn import datasets\n",
    "from sklearn.model_selection import train_test_split\n",
    "from sklearn.svm import SVC\n",
    "from sklearn.metrics import accuracy_score\n",
    "\n",
    "iris = datasets.load_iris()\n",
    "X = iris.data\n",
    "y = iris.target\n",
    "\n",
    "X_train, X_test, y_train, y_test = train_test_split(X, y, test_size=0.3, random_state=42)\n",
    "\n",
    "svm = SVC(kernel='poly', degree=3)\n",
    "\n",
    "svm.fit(X_train, y_train)\n",
    "\n",
    "y_pred = svm.predict(X_test)\n",
    "\n",
    "accuracy = accuracy_score(y_test, y_pred)\n",
    "print('Accuracy:', accuracy)"
   ]
  },
  {
   "cell_type": "code",
   "execution_count": 5,
   "id": "48523fcb-8706-4b61-9e70-52e4e9eacbeb",
   "metadata": {},
   "outputs": [],
   "source": [
    "Parameters = {\n",
    "              'C':[1,2,3,4,5],\n",
    "              'gamma':['scale','auto'],\n",
    "              'decision_function_shape' : ['ovo','ovr']\n",
    "}"
   ]
  },
  {
   "cell_type": "code",
   "execution_count": 6,
   "id": "f7c6947b-aa2e-44d7-983a-9ac14b16d21d",
   "metadata": {},
   "outputs": [],
   "source": [
    "from sklearn.model_selection import GridSearchCV\n",
    "clff = SVC(kernel='poly',degree =3)\n",
    "GRSV = GridSearchCV(clff,param_grid=Parameters,cv=5,verbose=3)"
   ]
  },
  {
   "cell_type": "code",
   "execution_count": 8,
   "id": "a0ea42b9-a8c5-40f9-b6dd-e1c8223e0271",
   "metadata": {},
   "outputs": [
    {
     "name": "stdout",
     "output_type": "stream",
     "text": [
      "Fitting 5 folds for each of 20 candidates, totalling 100 fits\n",
      "[CV 1/5] END C=1, decision_function_shape=ovo, gamma=scale;, score=1.000 total time=   0.0s\n",
      "[CV 2/5] END C=1, decision_function_shape=ovo, gamma=scale;, score=0.952 total time=   0.0s\n",
      "[CV 3/5] END C=1, decision_function_shape=ovo, gamma=scale;, score=0.905 total time=   0.0s\n",
      "[CV 4/5] END C=1, decision_function_shape=ovo, gamma=scale;, score=1.000 total time=   0.0s\n",
      "[CV 5/5] END C=1, decision_function_shape=ovo, gamma=scale;, score=1.000 total time=   0.0s\n",
      "[CV 1/5] END C=1, decision_function_shape=ovo, gamma=auto;, score=0.952 total time=   0.0s\n",
      "[CV 2/5] END C=1, decision_function_shape=ovo, gamma=auto;, score=0.905 total time=   0.0s\n",
      "[CV 3/5] END C=1, decision_function_shape=ovo, gamma=auto;, score=0.905 total time=   0.0s\n",
      "[CV 4/5] END C=1, decision_function_shape=ovo, gamma=auto;, score=1.000 total time=   0.0s\n",
      "[CV 5/5] END C=1, decision_function_shape=ovo, gamma=auto;, score=1.000 total time=   0.0s\n",
      "[CV 1/5] END C=1, decision_function_shape=ovr, gamma=scale;, score=1.000 total time=   0.0s\n",
      "[CV 2/5] END C=1, decision_function_shape=ovr, gamma=scale;, score=0.952 total time=   0.0s\n",
      "[CV 3/5] END C=1, decision_function_shape=ovr, gamma=scale;, score=0.905 total time=   0.0s\n",
      "[CV 4/5] END C=1, decision_function_shape=ovr, gamma=scale;, score=1.000 total time=   0.0s\n",
      "[CV 5/5] END C=1, decision_function_shape=ovr, gamma=scale;, score=1.000 total time=   0.0s\n",
      "[CV 1/5] END C=1, decision_function_shape=ovr, gamma=auto;, score=0.952 total time=   0.0s\n",
      "[CV 2/5] END C=1, decision_function_shape=ovr, gamma=auto;, score=0.905 total time=   0.0s\n",
      "[CV 3/5] END C=1, decision_function_shape=ovr, gamma=auto;, score=0.905 total time=   0.0s\n",
      "[CV 4/5] END C=1, decision_function_shape=ovr, gamma=auto;, score=1.000 total time=   0.0s\n",
      "[CV 5/5] END C=1, decision_function_shape=ovr, gamma=auto;, score=1.000 total time=   0.0s\n",
      "[CV 1/5] END C=2, decision_function_shape=ovo, gamma=scale;, score=0.952 total time=   0.0s\n",
      "[CV 2/5] END C=2, decision_function_shape=ovo, gamma=scale;, score=0.905 total time=   0.0s\n",
      "[CV 3/5] END C=2, decision_function_shape=ovo, gamma=scale;, score=0.905 total time=   0.0s\n",
      "[CV 4/5] END C=2, decision_function_shape=ovo, gamma=scale;, score=1.000 total time=   0.0s\n",
      "[CV 5/5] END C=2, decision_function_shape=ovo, gamma=scale;, score=1.000 total time=   0.0s\n",
      "[CV 1/5] END C=2, decision_function_shape=ovo, gamma=auto;, score=0.952 total time=   0.0s\n",
      "[CV 2/5] END C=2, decision_function_shape=ovo, gamma=auto;, score=0.905 total time=   0.0s\n",
      "[CV 3/5] END C=2, decision_function_shape=ovo, gamma=auto;, score=0.905 total time=   0.0s\n",
      "[CV 4/5] END C=2, decision_function_shape=ovo, gamma=auto;, score=0.952 total time=   0.0s\n",
      "[CV 5/5] END C=2, decision_function_shape=ovo, gamma=auto;, score=1.000 total time=   0.0s\n",
      "[CV 1/5] END C=2, decision_function_shape=ovr, gamma=scale;, score=0.952 total time=   0.0s\n",
      "[CV 2/5] END C=2, decision_function_shape=ovr, gamma=scale;, score=0.905 total time=   0.0s\n",
      "[CV 3/5] END C=2, decision_function_shape=ovr, gamma=scale;, score=0.905 total time=   0.0s\n",
      "[CV 4/5] END C=2, decision_function_shape=ovr, gamma=scale;, score=1.000 total time=   0.0s\n",
      "[CV 5/5] END C=2, decision_function_shape=ovr, gamma=scale;, score=1.000 total time=   0.0s\n",
      "[CV 1/5] END C=2, decision_function_shape=ovr, gamma=auto;, score=0.952 total time=   0.0s\n",
      "[CV 2/5] END C=2, decision_function_shape=ovr, gamma=auto;, score=0.905 total time=   0.0s\n",
      "[CV 3/5] END C=2, decision_function_shape=ovr, gamma=auto;, score=0.905 total time=   0.0s\n",
      "[CV 4/5] END C=2, decision_function_shape=ovr, gamma=auto;, score=0.952 total time=   0.0s\n",
      "[CV 5/5] END C=2, decision_function_shape=ovr, gamma=auto;, score=1.000 total time=   0.0s\n",
      "[CV 1/5] END C=3, decision_function_shape=ovo, gamma=scale;, score=0.952 total time=   0.0s\n",
      "[CV 2/5] END C=3, decision_function_shape=ovo, gamma=scale;, score=0.905 total time=   0.0s\n",
      "[CV 3/5] END C=3, decision_function_shape=ovo, gamma=scale;, score=0.905 total time=   0.0s\n",
      "[CV 4/5] END C=3, decision_function_shape=ovo, gamma=scale;, score=1.000 total time=   0.0s\n",
      "[CV 5/5] END C=3, decision_function_shape=ovo, gamma=scale;, score=1.000 total time=   0.0s\n",
      "[CV 1/5] END C=3, decision_function_shape=ovo, gamma=auto;, score=0.952 total time=   0.0s\n",
      "[CV 2/5] END C=3, decision_function_shape=ovo, gamma=auto;, score=0.905 total time=   0.0s\n",
      "[CV 3/5] END C=3, decision_function_shape=ovo, gamma=auto;, score=0.905 total time=   0.0s\n",
      "[CV 4/5] END C=3, decision_function_shape=ovo, gamma=auto;, score=0.952 total time=   0.0s\n",
      "[CV 5/5] END C=3, decision_function_shape=ovo, gamma=auto;, score=1.000 total time=   0.0s\n",
      "[CV 1/5] END C=3, decision_function_shape=ovr, gamma=scale;, score=0.952 total time=   0.0s\n",
      "[CV 2/5] END C=3, decision_function_shape=ovr, gamma=scale;, score=0.905 total time=   0.0s\n",
      "[CV 3/5] END C=3, decision_function_shape=ovr, gamma=scale;, score=0.905 total time=   0.0s\n",
      "[CV 4/5] END C=3, decision_function_shape=ovr, gamma=scale;, score=1.000 total time=   0.0s\n",
      "[CV 5/5] END C=3, decision_function_shape=ovr, gamma=scale;, score=1.000 total time=   0.0s\n",
      "[CV 1/5] END C=3, decision_function_shape=ovr, gamma=auto;, score=0.952 total time=   0.0s\n",
      "[CV 2/5] END C=3, decision_function_shape=ovr, gamma=auto;, score=0.905 total time=   0.0s\n",
      "[CV 3/5] END C=3, decision_function_shape=ovr, gamma=auto;, score=0.905 total time=   0.0s\n",
      "[CV 4/5] END C=3, decision_function_shape=ovr, gamma=auto;, score=0.952 total time=   0.0s\n",
      "[CV 5/5] END C=3, decision_function_shape=ovr, gamma=auto;, score=1.000 total time=   0.0s\n",
      "[CV 1/5] END C=4, decision_function_shape=ovo, gamma=scale;, score=0.952 total time=   0.0s\n",
      "[CV 2/5] END C=4, decision_function_shape=ovo, gamma=scale;, score=0.905 total time=   0.0s\n",
      "[CV 3/5] END C=4, decision_function_shape=ovo, gamma=scale;, score=0.905 total time=   0.0s\n",
      "[CV 4/5] END C=4, decision_function_shape=ovo, gamma=scale;, score=1.000 total time=   0.0s\n",
      "[CV 5/5] END C=4, decision_function_shape=ovo, gamma=scale;, score=1.000 total time=   0.0s\n",
      "[CV 1/5] END C=4, decision_function_shape=ovo, gamma=auto;, score=0.952 total time=   0.0s\n",
      "[CV 2/5] END C=4, decision_function_shape=ovo, gamma=auto;, score=0.905 total time=   0.0s\n",
      "[CV 3/5] END C=4, decision_function_shape=ovo, gamma=auto;, score=0.905 total time=   0.0s\n",
      "[CV 4/5] END C=4, decision_function_shape=ovo, gamma=auto;, score=0.952 total time=   0.0s\n",
      "[CV 5/5] END C=4, decision_function_shape=ovo, gamma=auto;, score=0.952 total time=   0.0s\n",
      "[CV 1/5] END C=4, decision_function_shape=ovr, gamma=scale;, score=0.952 total time=   0.0s\n",
      "[CV 2/5] END C=4, decision_function_shape=ovr, gamma=scale;, score=0.905 total time=   0.0s\n",
      "[CV 3/5] END C=4, decision_function_shape=ovr, gamma=scale;, score=0.905 total time=   0.0s\n",
      "[CV 4/5] END C=4, decision_function_shape=ovr, gamma=scale;, score=1.000 total time=   0.0s\n",
      "[CV 5/5] END C=4, decision_function_shape=ovr, gamma=scale;, score=1.000 total time=   0.0s\n",
      "[CV 1/5] END C=4, decision_function_shape=ovr, gamma=auto;, score=0.952 total time=   0.0s\n",
      "[CV 2/5] END C=4, decision_function_shape=ovr, gamma=auto;, score=0.905 total time=   0.0s\n",
      "[CV 3/5] END C=4, decision_function_shape=ovr, gamma=auto;, score=0.905 total time=   0.0s\n",
      "[CV 4/5] END C=4, decision_function_shape=ovr, gamma=auto;, score=0.952 total time=   0.0s\n",
      "[CV 5/5] END C=4, decision_function_shape=ovr, gamma=auto;, score=0.952 total time=   0.0s\n",
      "[CV 1/5] END C=5, decision_function_shape=ovo, gamma=scale;, score=0.952 total time=   0.0s\n",
      "[CV 2/5] END C=5, decision_function_shape=ovo, gamma=scale;, score=0.905 total time=   0.0s\n",
      "[CV 3/5] END C=5, decision_function_shape=ovo, gamma=scale;, score=0.905 total time=   0.0s\n",
      "[CV 4/5] END C=5, decision_function_shape=ovo, gamma=scale;, score=0.952 total time=   0.0s\n",
      "[CV 5/5] END C=5, decision_function_shape=ovo, gamma=scale;, score=1.000 total time=   0.0s\n",
      "[CV 1/5] END C=5, decision_function_shape=ovo, gamma=auto;, score=0.952 total time=   0.0s\n",
      "[CV 2/5] END C=5, decision_function_shape=ovo, gamma=auto;, score=0.905 total time=   0.0s\n",
      "[CV 3/5] END C=5, decision_function_shape=ovo, gamma=auto;, score=0.905 total time=   0.0s\n",
      "[CV 4/5] END C=5, decision_function_shape=ovo, gamma=auto;, score=0.952 total time=   0.0s\n",
      "[CV 5/5] END C=5, decision_function_shape=ovo, gamma=auto;, score=0.952 total time=   0.0s\n",
      "[CV 1/5] END C=5, decision_function_shape=ovr, gamma=scale;, score=0.952 total time=   0.0s\n",
      "[CV 2/5] END C=5, decision_function_shape=ovr, gamma=scale;, score=0.905 total time=   0.0s\n",
      "[CV 3/5] END C=5, decision_function_shape=ovr, gamma=scale;, score=0.905 total time=   0.0s\n",
      "[CV 4/5] END C=5, decision_function_shape=ovr, gamma=scale;, score=0.952 total time=   0.0s\n",
      "[CV 5/5] END C=5, decision_function_shape=ovr, gamma=scale;, score=1.000 total time=   0.0s\n",
      "[CV 1/5] END C=5, decision_function_shape=ovr, gamma=auto;, score=0.952 total time=   0.0s\n",
      "[CV 2/5] END C=5, decision_function_shape=ovr, gamma=auto;, score=0.905 total time=   0.0s\n",
      "[CV 3/5] END C=5, decision_function_shape=ovr, gamma=auto;, score=0.905 total time=   0.0s\n",
      "[CV 4/5] END C=5, decision_function_shape=ovr, gamma=auto;, score=0.952 total time=   0.0s\n",
      "[CV 5/5] END C=5, decision_function_shape=ovr, gamma=auto;, score=0.952 total time=   0.0s\n"
     ]
    },
    {
     "data": {
      "text/html": [
       "<style>#sk-container-id-1 {color: black;background-color: white;}#sk-container-id-1 pre{padding: 0;}#sk-container-id-1 div.sk-toggleable {background-color: white;}#sk-container-id-1 label.sk-toggleable__label {cursor: pointer;display: block;width: 100%;margin-bottom: 0;padding: 0.3em;box-sizing: border-box;text-align: center;}#sk-container-id-1 label.sk-toggleable__label-arrow:before {content: \"▸\";float: left;margin-right: 0.25em;color: #696969;}#sk-container-id-1 label.sk-toggleable__label-arrow:hover:before {color: black;}#sk-container-id-1 div.sk-estimator:hover label.sk-toggleable__label-arrow:before {color: black;}#sk-container-id-1 div.sk-toggleable__content {max-height: 0;max-width: 0;overflow: hidden;text-align: left;background-color: #f0f8ff;}#sk-container-id-1 div.sk-toggleable__content pre {margin: 0.2em;color: black;border-radius: 0.25em;background-color: #f0f8ff;}#sk-container-id-1 input.sk-toggleable__control:checked~div.sk-toggleable__content {max-height: 200px;max-width: 100%;overflow: auto;}#sk-container-id-1 input.sk-toggleable__control:checked~label.sk-toggleable__label-arrow:before {content: \"▾\";}#sk-container-id-1 div.sk-estimator input.sk-toggleable__control:checked~label.sk-toggleable__label {background-color: #d4ebff;}#sk-container-id-1 div.sk-label input.sk-toggleable__control:checked~label.sk-toggleable__label {background-color: #d4ebff;}#sk-container-id-1 input.sk-hidden--visually {border: 0;clip: rect(1px 1px 1px 1px);clip: rect(1px, 1px, 1px, 1px);height: 1px;margin: -1px;overflow: hidden;padding: 0;position: absolute;width: 1px;}#sk-container-id-1 div.sk-estimator {font-family: monospace;background-color: #f0f8ff;border: 1px dotted black;border-radius: 0.25em;box-sizing: border-box;margin-bottom: 0.5em;}#sk-container-id-1 div.sk-estimator:hover {background-color: #d4ebff;}#sk-container-id-1 div.sk-parallel-item::after {content: \"\";width: 100%;border-bottom: 1px solid gray;flex-grow: 1;}#sk-container-id-1 div.sk-label:hover label.sk-toggleable__label {background-color: #d4ebff;}#sk-container-id-1 div.sk-serial::before {content: \"\";position: absolute;border-left: 1px solid gray;box-sizing: border-box;top: 0;bottom: 0;left: 50%;z-index: 0;}#sk-container-id-1 div.sk-serial {display: flex;flex-direction: column;align-items: center;background-color: white;padding-right: 0.2em;padding-left: 0.2em;position: relative;}#sk-container-id-1 div.sk-item {position: relative;z-index: 1;}#sk-container-id-1 div.sk-parallel {display: flex;align-items: stretch;justify-content: center;background-color: white;position: relative;}#sk-container-id-1 div.sk-item::before, #sk-container-id-1 div.sk-parallel-item::before {content: \"\";position: absolute;border-left: 1px solid gray;box-sizing: border-box;top: 0;bottom: 0;left: 50%;z-index: -1;}#sk-container-id-1 div.sk-parallel-item {display: flex;flex-direction: column;z-index: 1;position: relative;background-color: white;}#sk-container-id-1 div.sk-parallel-item:first-child::after {align-self: flex-end;width: 50%;}#sk-container-id-1 div.sk-parallel-item:last-child::after {align-self: flex-start;width: 50%;}#sk-container-id-1 div.sk-parallel-item:only-child::after {width: 0;}#sk-container-id-1 div.sk-dashed-wrapped {border: 1px dashed gray;margin: 0 0.4em 0.5em 0.4em;box-sizing: border-box;padding-bottom: 0.4em;background-color: white;}#sk-container-id-1 div.sk-label label {font-family: monospace;font-weight: bold;display: inline-block;line-height: 1.2em;}#sk-container-id-1 div.sk-label-container {text-align: center;}#sk-container-id-1 div.sk-container {/* jupyter's `normalize.less` sets `[hidden] { display: none; }` but bootstrap.min.css set `[hidden] { display: none !important; }` so we also need the `!important` here to be able to override the default hidden behavior on the sphinx rendered scikit-learn.org. See: https://github.com/scikit-learn/scikit-learn/issues/21755 */display: inline-block !important;position: relative;}#sk-container-id-1 div.sk-text-repr-fallback {display: none;}</style><div id=\"sk-container-id-1\" class=\"sk-top-container\"><div class=\"sk-text-repr-fallback\"><pre>GridSearchCV(cv=5, estimator=SVC(kernel=&#x27;poly&#x27;),\n",
       "             param_grid={&#x27;C&#x27;: [1, 2, 3, 4, 5],\n",
       "                         &#x27;decision_function_shape&#x27;: [&#x27;ovo&#x27;, &#x27;ovr&#x27;],\n",
       "                         &#x27;gamma&#x27;: [&#x27;scale&#x27;, &#x27;auto&#x27;]},\n",
       "             verbose=3)</pre><b>In a Jupyter environment, please rerun this cell to show the HTML representation or trust the notebook. <br />On GitHub, the HTML representation is unable to render, please try loading this page with nbviewer.org.</b></div><div class=\"sk-container\" hidden><div class=\"sk-item sk-dashed-wrapped\"><div class=\"sk-label-container\"><div class=\"sk-label sk-toggleable\"><input class=\"sk-toggleable__control sk-hidden--visually\" id=\"sk-estimator-id-1\" type=\"checkbox\" ><label for=\"sk-estimator-id-1\" class=\"sk-toggleable__label sk-toggleable__label-arrow\">GridSearchCV</label><div class=\"sk-toggleable__content\"><pre>GridSearchCV(cv=5, estimator=SVC(kernel=&#x27;poly&#x27;),\n",
       "             param_grid={&#x27;C&#x27;: [1, 2, 3, 4, 5],\n",
       "                         &#x27;decision_function_shape&#x27;: [&#x27;ovo&#x27;, &#x27;ovr&#x27;],\n",
       "                         &#x27;gamma&#x27;: [&#x27;scale&#x27;, &#x27;auto&#x27;]},\n",
       "             verbose=3)</pre></div></div></div><div class=\"sk-parallel\"><div class=\"sk-parallel-item\"><div class=\"sk-item\"><div class=\"sk-label-container\"><div class=\"sk-label sk-toggleable\"><input class=\"sk-toggleable__control sk-hidden--visually\" id=\"sk-estimator-id-2\" type=\"checkbox\" ><label for=\"sk-estimator-id-2\" class=\"sk-toggleable__label sk-toggleable__label-arrow\">estimator: SVC</label><div class=\"sk-toggleable__content\"><pre>SVC(kernel=&#x27;poly&#x27;)</pre></div></div></div><div class=\"sk-serial\"><div class=\"sk-item\"><div class=\"sk-estimator sk-toggleable\"><input class=\"sk-toggleable__control sk-hidden--visually\" id=\"sk-estimator-id-3\" type=\"checkbox\" ><label for=\"sk-estimator-id-3\" class=\"sk-toggleable__label sk-toggleable__label-arrow\">SVC</label><div class=\"sk-toggleable__content\"><pre>SVC(kernel=&#x27;poly&#x27;)</pre></div></div></div></div></div></div></div></div></div></div>"
      ],
      "text/plain": [
       "GridSearchCV(cv=5, estimator=SVC(kernel='poly'),\n",
       "             param_grid={'C': [1, 2, 3, 4, 5],\n",
       "                         'decision_function_shape': ['ovo', 'ovr'],\n",
       "                         'gamma': ['scale', 'auto']},\n",
       "             verbose=3)"
      ]
     },
     "execution_count": 8,
     "metadata": {},
     "output_type": "execute_result"
    }
   ],
   "source": [
    "GRSV.fit(X_train,y_train)"
   ]
  },
  {
   "cell_type": "code",
   "execution_count": 9,
   "id": "cf2b10a6-f463-4249-ac9f-ebfb8cd12b2c",
   "metadata": {},
   "outputs": [
    {
     "data": {
      "text/plain": [
       "{'C': 1, 'decision_function_shape': 'ovo', 'gamma': 'scale'}"
      ]
     },
     "execution_count": 9,
     "metadata": {},
     "output_type": "execute_result"
    }
   ],
   "source": [
    "GRSV.best_params_"
   ]
  },
  {
   "cell_type": "code",
   "execution_count": 10,
   "id": "a0f1febf-492e-4b34-91c2-33ed58017bdc",
   "metadata": {},
   "outputs": [],
   "source": [
    "Y_test_red = GRSV.predict(X_test)"
   ]
  },
  {
   "cell_type": "code",
   "execution_count": 11,
   "id": "12c3c378-687b-498b-a17c-ecd587c460b1",
   "metadata": {},
   "outputs": [
    {
     "name": "stdout",
     "output_type": "stream",
     "text": [
      "Accuracy: 0.9777777777777777\n"
     ]
    }
   ],
   "source": [
    "accuracy = accuracy_score(y_test, Y_test_red)\n",
    "print('Accuracy:', accuracy)"
   ]
  },
  {
   "cell_type": "code",
   "execution_count": 12,
   "id": "9a956360-53f6-45fe-a4ad-10b7c98a7a7a",
   "metadata": {},
   "outputs": [],
   "source": [
    "import pickle\n",
    "with open('SVR_polynomial_classifier.pkl','wb') as file:\n",
    "    pickle.dump(GRSV,file)"
   ]
  },
  {
   "cell_type": "code",
   "execution_count": null,
   "id": "7469dd88-b424-4b93-ae36-1aa309d17524",
   "metadata": {},
   "outputs": [],
   "source": []
  },
  {
   "cell_type": "code",
   "execution_count": null,
   "id": "9615ff93-0eb8-4381-bca2-89bc26360d00",
   "metadata": {},
   "outputs": [],
   "source": []
  },
  {
   "cell_type": "code",
   "execution_count": null,
   "id": "1034d1a6-b1b6-4d80-aaef-d969548f6966",
   "metadata": {},
   "outputs": [],
   "source": []
  },
  {
   "cell_type": "code",
   "execution_count": null,
   "id": "487d6001-b199-4536-9061-bf45dca82e14",
   "metadata": {},
   "outputs": [],
   "source": []
  },
  {
   "cell_type": "code",
   "execution_count": null,
   "id": "14c4f55e-fe69-4053-8e21-fee4192de661",
   "metadata": {},
   "outputs": [],
   "source": []
  },
  {
   "cell_type": "code",
   "execution_count": null,
   "id": "d8752eb0-7714-47c4-b8d8-463bcc6c4bf4",
   "metadata": {},
   "outputs": [],
   "source": []
  },
  {
   "cell_type": "code",
   "execution_count": null,
   "id": "de92b604-4a35-4bd7-8d6d-c3453b845d1f",
   "metadata": {},
   "outputs": [],
   "source": []
  }
 ],
 "metadata": {
  "kernelspec": {
   "display_name": "Python 3 (ipykernel)",
   "language": "python",
   "name": "python3"
  },
  "language_info": {
   "codemirror_mode": {
    "name": "ipython",
    "version": 3
   },
   "file_extension": ".py",
   "mimetype": "text/x-python",
   "name": "python",
   "nbconvert_exporter": "python",
   "pygments_lexer": "ipython3",
   "version": "3.10.8"
  }
 },
 "nbformat": 4,
 "nbformat_minor": 5
}
