{
 "cells": [
  {
   "cell_type": "markdown",
   "id": "0c8b0a4d-5064-4a31-a9fb-6a3630274787",
   "metadata": {},
   "source": [
    "#### Answer_1"
   ]
  },
  {
   "cell_type": "markdown",
   "id": "cbf2f103-b869-4f82-96bc-f977c5eeb4ec",
   "metadata": {},
   "source": [
    "A Random Forest Regressor is a machine learning algorithm that belongs to the family of ensemble methods. It is primarily used for regression tasks, which involve predicting continuous numerical values rather than discrete categories. The algorithm is an extension of the Random Forest algorithm, which is commonly used for classification tasks.\n",
    "\n",
    "Random Forest Regressor combines the power of multiple decision trees to make predictions. Each decision tree in the random forest is built using a random subset of the training data and a random subset of the input features. This randomness helps to reduce overfitting and improve the generalization ability of the model.\n",
    "\n",
    "During the training process, each decision tree in the random forest independently learns to make predictions based on different subsets of the data. When making a prediction, the random forest aggregates the predictions from all the individual trees to produce a final prediction. In the case of regression, the final prediction is typically the average or the median of the predictions made by the individual trees.\n",
    "\n",
    "The random forest algorithm has several advantages. It is robust against overfitting, can handle high-dimensional data, and can capture complex nonlinear relationships between the input features and the target variable. It also provides useful measures of feature importance, which can help in feature selection and understanding the underlying data.\n",
    "\n",
    "Random Forest Regressor has various applications in fields such as finance, economics, healthcare, and environmental science, where predicting continuous values is of interest."
   ]
  },
  {
   "cell_type": "markdown",
   "id": "cfd45c32-cb31-46fd-a3df-fab257e5349b",
   "metadata": {},
   "source": [
    "#### Answer_2"
   ]
  },
  {
   "cell_type": "markdown",
   "id": "c9f355a5-2066-462a-8e74-3a6a66bdc11e",
   "metadata": {},
   "source": [
    "* Random Subset of Data: Random Forest Regressor builds each decision tree using a random subset of the training data. This process is known as bootstrap aggregating or \"bagging.\" By using different subsets of the data, the algorithm introduces diversity in the training process. This diversity helps to reduce overfitting because each tree learns from a slightly different perspective of the data.\n",
    "\n",
    "* Random Subset of Features: In addition to using random subsets of the data, Random Forest Regressor also selects a random subset of input features at each split point of a decision tree. This means that each decision tree only considers a subset of the available features when making a split. By randomly selecting features, the algorithm further reduces the chances of overfitting and encourages trees to focus on different subsets of features.\n",
    "\n",
    "* Ensemble Averaging: Random Forest Regressor combines the predictions of multiple decision trees to make the final prediction. Instead of relying on the prediction of a single tree, the algorithm aggregates the predictions from all the trees, typically by taking the average or median. This ensemble averaging helps to smooth out individual errors and reduce the overall variance of the model.\n",
    "\n",
    "* Out-of-Bag Error Estimation: During the training process, Random Forest Regressor uses a technique called out-of-bag (OOB) error estimation. OOB error provides an estimate of the model's performance on unseen data. It is computed by evaluating each tree on the instances in the training data that were not included in its bootstrap sample. This OOB error estimate helps to assess the model's generalization ability and can be used as a measure of overfitting. If the OOB error is significantly higher than the training error, it suggests that the model is overfitting."
   ]
  },
  {
   "cell_type": "markdown",
   "id": "b6d75ccd-9d42-4f10-a8d7-d75d7aa94cc7",
   "metadata": {},
   "source": [
    "#### Answer_3"
   ]
  },
  {
   "cell_type": "markdown",
   "id": "beb3b4fb-75c9-4fee-896f-97d5aacecf48",
   "metadata": {},
   "source": [
    "\n",
    "Random Forest Regressor aggregates the predictions of multiple decision trees through a process called ensemble averaging. When making a prediction for a new instance, each decision tree in the random forest independently produces its own prediction. Then, the predictions from all the trees are combined to obtain the final prediction.\n",
    "\n",
    "The most common method of aggregation in Random Forest Regressor is taking the average of the predictions made by each individual tree. This means that the final prediction is the arithmetic mean of the predictions from all the trees. Another option is to take the median of the predictions, which is the value that separates the higher half from the lower half of the predictions. Both averaging methods are effective in reducing the variance and stabilizing the predictions.\n",
    "\n",
    "By combining the predictions of multiple decision trees, Random Forest Regressor leverages the diversity and collective wisdom of the trees. Each tree may have its own strengths, weaknesses, and sources of error, but by averaging their predictions, the individual errors tend to cancel out, leading to a more accurate and robust final prediction. This ensemble averaging is a key aspect of Random Forest Regressor's ability to generalize well and handle a variety of regression problems"
   ]
  },
  {
   "cell_type": "markdown",
   "id": "e8249f92-f47f-403a-83fe-ee6cf303d830",
   "metadata": {},
   "source": [
    "#### Answer_4"
   ]
  },
  {
   "cell_type": "markdown",
   "id": "51c7f20b-842f-4c39-bd80-9928159d1178",
   "metadata": {},
   "source": [
    "* n_estimators: This hyperparameter determines the number of decision trees in the random forest. Increasing the number of estimators can improve the model's performance but also increases training time. It is recommended to find a balance based on the dataset and computational resources.\n",
    "\n",
    "* criterion: This parameter specifies the function used to measure the quality of a split at each tree node. For regression tasks, \"mse\" (Mean Squared Error) is commonly used.\n",
    "\n",
    "* max_depth: It determines the maximum depth of each decision tree in the random forest. A larger max_depth value can lead to overfitting, while a smaller value may result in underfitting. It is important to tune this hyperparameter to find the right balance.\n",
    "\n",
    "* min_samples_split: This parameter specifies the minimum number of samples required to split an internal node. If the number of samples at a node is less than min_samples_split, the node will not be split further, and it will become a leaf node.\n",
    "\n",
    "* min_samples_leaf: It represents the minimum number of samples required to be at a leaf node. If creating a split would result in a leaf node with fewer samples than min_samples_leaf, the split is not performed.\n",
    "\n",
    "* max_features: This hyperparameter controls the number of features randomly selected at each split. It can be specified as an integer or a float. If an integer value is provided, the algorithm will select that number of features. If a float value is provided, it will represent the percentage of features to be considered.\n",
    "\n",
    "* bootstrap: This parameter determines whether bootstrap samples are used when building decision trees. Setting it to True enables bootstrapping, while setting it to False disables it. Using bootstrap samples can improve the randomness and diversity of the forest."
   ]
  },
  {
   "cell_type": "markdown",
   "id": "8d389ae2-f9b9-46f6-be74-00e074e03c3f",
   "metadata": {},
   "source": [
    "#### Answer_5"
   ]
  },
  {
   "cell_type": "markdown",
   "id": "6d0a33ce-b2f6-42b4-b3c7-fb0b869ef0d9",
   "metadata": {},
   "source": [
    "Algorithm: The Decision Tree Regressor builds a single decision tree by recursively partitioning the data based on feature splits. It selects the best feature and split point at each node to minimize the impurity or maximize the information gain. On the other hand, the Random Forest Regressor is an ensemble method that combines multiple decision trees. It creates an ensemble of decision trees by training each tree on a randomly selected subset of the data and a random subset of features.\n",
    "\n",
    "Prediction: The Decision Tree Regressor predicts the target value by following a path from the root of the tree to a leaf node based on the feature values. The predicted value at the leaf node is the average (or weighted average) of the target values of the training samples in that leaf. In contrast, the Random Forest Regressor makes predictions by aggregating the predictions of all the individual decision trees in the ensemble. The final prediction is typically the average (or weighted average) of the predictions made by each tree.\n",
    "\n",
    "Overfitting: Decision trees have a tendency to overfit the training data, especially if the tree is allowed to grow deep. This means that the model may perform well on the training data but generalize poorly to new, unseen data. Random Forest Regressor, however, mitigates the overfitting problem by averaging the predictions of multiple decision trees. The randomness introduced by using random subsets of the data and features helps to reduce the variance and improve the generalization ability of the model.\n",
    "\n",
    "Robustness: Random Forest Regressor tends to be more robust to outliers and noise compared to Decision Tree Regressor. The ensemble nature of random forests reduces the impact of individual noisy samples or outliers because the overall prediction is based on the consensus of multiple trees."
   ]
  },
  {
   "cell_type": "markdown",
   "id": "1a1e36c1-73a6-4b5d-b132-ccfaf034a8dd",
   "metadata": {},
   "source": [
    "#### Answer_6"
   ]
  },
  {
   "cell_type": "markdown",
   "id": "22f83d4b-d543-4867-ab0e-d20d2d4fc860",
   "metadata": {},
   "source": [
    "Advantages:\n",
    "\n",
    "* Robustness to Outliers: Random Forest Regressor is less sensitive to outliers compared to other regression algorithms, such as linear regression or single decision trees. The ensemble nature of random forests helps to reduce the impact of outliers, as the final prediction is based on the consensus of multiple trees.\n",
    "\n",
    "* Non-Linearity Handling: Random forests can capture complex non-linear relationships between features and the target variable. They can handle interactions, non-linear patterns, and high-dimensional data effectively.\n",
    "\n",
    "* Feature Importance: Random forests provide a measure of feature importance, indicating the contribution of each feature in the prediction process. This information can be valuable for feature selection and understanding the underlying relationships in the data.\n",
    "\n",
    "* Robustness to Overfitting: Random forests mitigate overfitting, which is a common problem in decision trees. The randomness introduced during the training process, such as bootstrapping and random feature selection, helps to reduce variance and improve the generalization ability of the model.\n",
    "\n",
    "* Handling Missing Data: Random forests can handle missing data by imputing missing values or using surrogate splits based on other available features. This feature is advantageous when working with real-world datasets that often contain missing values.\n",
    "\n",
    "Disadvantages:\n",
    "\n",
    "* Model Interpretability: Random forests are not as easily interpretable as single decision trees. The ensemble nature of the model makes it challenging to interpret the relationships between features and the target variable compared to a single decision tree.\n",
    "\n",
    "* Computational Complexity: Training a random forest can be computationally expensive, especially when the number of trees (n_estimators) and the number of features are large. Predictions can also be slower compared to simpler models.\n",
    "\n",
    "* Memory Usage: Random forests can consume a significant amount of memory, especially for large datasets and complex models. Each decision tree in the ensemble needs to be stored in memory, which can be a limitation in resource-constrained environments.\n",
    "\n",
    "* Hyperparameter Tuning: Random forests have several hyperparameters that need to be tuned for optimal performance. Finding the best combination of hyperparameters can be time-consuming and computationally expensive.\n",
    "\n",
    "* Bias-Variance Tradeoff: Although random forests reduce overfitting compared to decision trees, there is still a tradeoff between bias and variance. In some cases, random forests can exhibit high bias and underfit the data, especially when the number of trees is insufficient or the trees are shallow."
   ]
  },
  {
   "cell_type": "markdown",
   "id": "b22eb4d8-8ab7-48dd-90dc-70f86ded577e",
   "metadata": {},
   "source": [
    "#### Answer_7"
   ]
  },
  {
   "cell_type": "markdown",
   "id": "72e85c12-291c-493f-9bb3-54c3407c95ef",
   "metadata": {},
   "source": [
    "The output of a Random Forest Regressor is a predicted continuous numerical value for a given input or set of inputs. In other words, the Random Forest Regressor predicts a numeric target variable based on the features or attributes provided.\n",
    "\n",
    "For each input instance, the Random Forest Regressor combines the predictions of multiple decision trees in the ensemble and provides an aggregated prediction as the final output. The aggregation can be done by taking the average (or weighted average) of the predictions made by each individual tree.\n",
    "\n",
    "The output of a Random Forest Regressor is not a classification label but a continuous value that represents the predicted numerical outcome based on the input features. The specific value depends on the problem domain and the nature of the target variable being predicted.\n",
    "\n",
    "For example, if you are using a Random Forest Regressor to predict housing prices based on features such as location, square footage, and number of bedrooms, the output would be a predicted price value, such as $250,000 or $400,000.\n",
    "\n",
    "It's important to note that the output of the Random Forest Regressor is a prediction and not an exact value. The accuracy of the prediction depends on the quality and representativeness of the training data, the model's hyperparameter settings, and the complexity of the problem being addressed."
   ]
  },
  {
   "cell_type": "markdown",
   "id": "4caa1f2d-41c1-485c-9224-28b6de3c509c",
   "metadata": {},
   "source": [
    "#### Answer_8"
   ]
  },
  {
   "cell_type": "markdown",
   "id": "4947d331-ea99-448a-a576-a30471116f70",
   "metadata": {},
   "source": [
    "Yes, the Random Forest algorithm can be used for classification tasks as well. While Random Forest is commonly associated with regression tasks, it is also a popular choice for classification problems.\n",
    "\n",
    "For classification tasks, the algorithm is referred to as the Random Forest Classifier. It operates in a similar manner to the Random Forest Regressor, but with some modifications to handle classification objectives.\n",
    "\n",
    "In the Random Forest Classifier, instead of predicting continuous numerical values, the algorithm assigns class labels to input instances based on the features provided. It uses an ensemble of decision trees to make predictions and determines the class based on the majority vote or the mode of the predictions from individual trees.\n",
    "\n",
    "The output of a Random Forest Classifier is the predicted class label for each input instance. The class labels can represent different categories, such as \"spam\" or \"not spam,\" \"positive\" or \"negative,\" or any other predefined classes based on the specific classification problem.\n",
    "\n",
    "The Random Forest Classifier offers several advantages for classification tasks, such as handling non-linear relationships, robustness to outliers, and feature importance analysis. It can be effective in various domains, including text classification, image recognition, and customer churn prediction, among others.\n",
    "\n",
    "It's worth noting that while Random Forest is versatile and widely used, there are other algorithms specifically designed for classification tasks, such as logistic regression, support vector machines (SVM), and gradient boosting classifiers. The choice of algorithm depends on the nature of the problem and the specific requirements of the task."
   ]
  },
  {
   "cell_type": "code",
   "execution_count": null,
   "id": "21b83d03-1760-4793-a890-481164a3ab57",
   "metadata": {},
   "outputs": [],
   "source": []
  },
  {
   "cell_type": "code",
   "execution_count": null,
   "id": "1262dfab-d05c-4edc-89a8-116644c9ebe2",
   "metadata": {},
   "outputs": [],
   "source": []
  },
  {
   "cell_type": "code",
   "execution_count": null,
   "id": "4e9618ec-ff57-4368-9fc8-cf1a13c6a0fb",
   "metadata": {},
   "outputs": [],
   "source": []
  },
  {
   "cell_type": "code",
   "execution_count": null,
   "id": "f3b23faf-2276-4adb-ab6e-38c761418199",
   "metadata": {},
   "outputs": [],
   "source": []
  },
  {
   "cell_type": "code",
   "execution_count": null,
   "id": "e63f2b3d-3fae-4883-9c11-2a27e1bc6684",
   "metadata": {},
   "outputs": [],
   "source": []
  },
  {
   "cell_type": "code",
   "execution_count": null,
   "id": "12d2a022-4b54-42f6-b587-b015805fe2cd",
   "metadata": {},
   "outputs": [],
   "source": []
  },
  {
   "cell_type": "code",
   "execution_count": null,
   "id": "bb3be65e-f2d6-4e19-a3de-bdf357ba9359",
   "metadata": {},
   "outputs": [],
   "source": []
  },
  {
   "cell_type": "code",
   "execution_count": null,
   "id": "43e34621-e9d9-4d9f-89d8-12038b8c7ecd",
   "metadata": {},
   "outputs": [],
   "source": []
  },
  {
   "cell_type": "code",
   "execution_count": null,
   "id": "2c0a1fa7-e204-4c69-9749-a356689858aa",
   "metadata": {},
   "outputs": [],
   "source": []
  },
  {
   "cell_type": "code",
   "execution_count": null,
   "id": "71456eaa-29d6-469e-bc34-6a2883dfa2ee",
   "metadata": {},
   "outputs": [],
   "source": []
  },
  {
   "cell_type": "code",
   "execution_count": null,
   "id": "b542fe33-a443-47c2-878d-da3674b94ff4",
   "metadata": {},
   "outputs": [],
   "source": []
  },
  {
   "cell_type": "code",
   "execution_count": null,
   "id": "6ae0f024-fdc8-416c-84ad-3dc2a15bc6c9",
   "metadata": {},
   "outputs": [],
   "source": []
  },
  {
   "cell_type": "code",
   "execution_count": null,
   "id": "d7ea6503-2476-4325-aaca-2790b9f40739",
   "metadata": {},
   "outputs": [],
   "source": []
  },
  {
   "cell_type": "code",
   "execution_count": null,
   "id": "87ffbd59-8752-4a8b-ab1a-d783f53fd6ff",
   "metadata": {},
   "outputs": [],
   "source": []
  },
  {
   "cell_type": "code",
   "execution_count": null,
   "id": "479ea877-7aa1-4538-a479-5ff7be09795d",
   "metadata": {},
   "outputs": [],
   "source": []
  },
  {
   "cell_type": "code",
   "execution_count": null,
   "id": "3264d2e6-b3ef-42a9-9e17-30bb295192e1",
   "metadata": {},
   "outputs": [],
   "source": []
  },
  {
   "cell_type": "code",
   "execution_count": null,
   "id": "6d4f10c3-b11d-42be-aae1-8ee15f648870",
   "metadata": {},
   "outputs": [],
   "source": []
  },
  {
   "cell_type": "code",
   "execution_count": null,
   "id": "d8b5b7c0-0fed-416c-bc00-2998b84e2f9d",
   "metadata": {},
   "outputs": [],
   "source": []
  },
  {
   "cell_type": "code",
   "execution_count": null,
   "id": "a934c92e-d3c8-4d8f-b288-5f214aff2ebf",
   "metadata": {},
   "outputs": [],
   "source": []
  },
  {
   "cell_type": "code",
   "execution_count": null,
   "id": "1b4df71a-e294-427e-b55b-cd52245da9ba",
   "metadata": {},
   "outputs": [],
   "source": []
  },
  {
   "cell_type": "code",
   "execution_count": null,
   "id": "0b58a165-f679-4621-a5d2-ba96fdbfe401",
   "metadata": {},
   "outputs": [],
   "source": []
  },
  {
   "cell_type": "code",
   "execution_count": null,
   "id": "f63fec86-5638-4e33-9286-697107a85c5f",
   "metadata": {},
   "outputs": [],
   "source": []
  },
  {
   "cell_type": "code",
   "execution_count": null,
   "id": "34e29845-f5f0-42ef-aed1-b56132f87759",
   "metadata": {},
   "outputs": [],
   "source": []
  },
  {
   "cell_type": "code",
   "execution_count": null,
   "id": "c991f88f-ba3e-437d-93a6-05da700fc45c",
   "metadata": {},
   "outputs": [],
   "source": []
  },
  {
   "cell_type": "code",
   "execution_count": null,
   "id": "17d3a97c-94ff-4f72-9663-814010e481fc",
   "metadata": {},
   "outputs": [],
   "source": []
  },
  {
   "cell_type": "code",
   "execution_count": null,
   "id": "2ae2eec0-4734-4367-8b8a-68f62d4d6dc2",
   "metadata": {},
   "outputs": [],
   "source": []
  },
  {
   "cell_type": "code",
   "execution_count": null,
   "id": "9715ed36-d949-430d-b5ac-dfe9f62b5cac",
   "metadata": {},
   "outputs": [],
   "source": []
  },
  {
   "cell_type": "code",
   "execution_count": null,
   "id": "7c19ff28-6062-4194-8f43-75d608d431cc",
   "metadata": {},
   "outputs": [],
   "source": []
  },
  {
   "cell_type": "code",
   "execution_count": null,
   "id": "1d44bf2b-d79d-44d6-8ade-ceef24e2e888",
   "metadata": {},
   "outputs": [],
   "source": []
  },
  {
   "cell_type": "code",
   "execution_count": null,
   "id": "075e9fce-7faf-4de4-8dd5-fc970245112c",
   "metadata": {},
   "outputs": [],
   "source": []
  },
  {
   "cell_type": "code",
   "execution_count": null,
   "id": "8d10e50d-f49b-4b39-b487-7bd6c688d2b0",
   "metadata": {},
   "outputs": [],
   "source": []
  },
  {
   "cell_type": "code",
   "execution_count": null,
   "id": "e7073e51-ae2d-4011-acb0-057c558c297f",
   "metadata": {},
   "outputs": [],
   "source": []
  },
  {
   "cell_type": "code",
   "execution_count": null,
   "id": "84c4e9a4-1bb7-4cdf-a205-f0c94bd2c2b8",
   "metadata": {},
   "outputs": [],
   "source": []
  },
  {
   "cell_type": "code",
   "execution_count": null,
   "id": "f26faa58-71d8-41c8-9ea3-2e94d0fc2333",
   "metadata": {},
   "outputs": [],
   "source": []
  },
  {
   "cell_type": "code",
   "execution_count": null,
   "id": "1d8c46d5-a6fb-483d-9fe0-751e5a603b71",
   "metadata": {},
   "outputs": [],
   "source": []
  },
  {
   "cell_type": "code",
   "execution_count": null,
   "id": "26c9d24d-83ec-4436-9a96-da5d3fcb97d4",
   "metadata": {},
   "outputs": [],
   "source": []
  },
  {
   "cell_type": "code",
   "execution_count": null,
   "id": "b6e2ff04-4614-4361-a722-6e27fa3ec18b",
   "metadata": {},
   "outputs": [],
   "source": []
  },
  {
   "cell_type": "code",
   "execution_count": null,
   "id": "7e98188a-43be-48ca-af81-067a0d397ef9",
   "metadata": {},
   "outputs": [],
   "source": []
  },
  {
   "cell_type": "code",
   "execution_count": null,
   "id": "c5d9505e-f465-4ad2-884f-7c171e96d5fd",
   "metadata": {},
   "outputs": [],
   "source": []
  },
  {
   "cell_type": "code",
   "execution_count": null,
   "id": "38ce8a5f-f7ad-4efd-b06d-d6479b1f19d8",
   "metadata": {},
   "outputs": [],
   "source": []
  },
  {
   "cell_type": "code",
   "execution_count": null,
   "id": "51b29e12-43e7-4a73-9346-4e303a0c605a",
   "metadata": {},
   "outputs": [],
   "source": []
  },
  {
   "cell_type": "code",
   "execution_count": null,
   "id": "8a20a2e8-eb7e-48c6-8fc7-bbbea989b124",
   "metadata": {},
   "outputs": [],
   "source": []
  },
  {
   "cell_type": "code",
   "execution_count": null,
   "id": "f636438e-8fc9-4a61-a655-12db2a4f3534",
   "metadata": {},
   "outputs": [],
   "source": []
  },
  {
   "cell_type": "code",
   "execution_count": null,
   "id": "c00962d1-3bb9-4dc4-8677-a945d5383844",
   "metadata": {},
   "outputs": [],
   "source": []
  },
  {
   "cell_type": "code",
   "execution_count": null,
   "id": "98dc5c10-a061-4a6b-9dcd-16038468c10a",
   "metadata": {},
   "outputs": [],
   "source": []
  },
  {
   "cell_type": "code",
   "execution_count": null,
   "id": "86e8dd19-2163-400e-8b93-2822a6c0c668",
   "metadata": {},
   "outputs": [],
   "source": []
  },
  {
   "cell_type": "code",
   "execution_count": null,
   "id": "1b69c00b-d200-49e4-ba4e-2ba15f8b652b",
   "metadata": {},
   "outputs": [],
   "source": []
  },
  {
   "cell_type": "code",
   "execution_count": null,
   "id": "eb048229-c118-4f11-95bf-49e8148adb8e",
   "metadata": {},
   "outputs": [],
   "source": []
  },
  {
   "cell_type": "code",
   "execution_count": null,
   "id": "c180dd76-c51b-41ee-9974-5003f828bca4",
   "metadata": {},
   "outputs": [],
   "source": []
  },
  {
   "cell_type": "code",
   "execution_count": null,
   "id": "d4305e2f-0f09-4da5-a7ac-8aa56088a507",
   "metadata": {},
   "outputs": [],
   "source": []
  },
  {
   "cell_type": "code",
   "execution_count": null,
   "id": "01338d49-fa66-4add-b0e8-39efa10ecc1c",
   "metadata": {},
   "outputs": [],
   "source": []
  },
  {
   "cell_type": "code",
   "execution_count": null,
   "id": "b0248703-37cc-4e98-ad4a-f15a41c3fdbf",
   "metadata": {},
   "outputs": [],
   "source": []
  },
  {
   "cell_type": "code",
   "execution_count": null,
   "id": "b236c8f3-d202-4173-b5f5-d68e0f6da026",
   "metadata": {},
   "outputs": [],
   "source": []
  },
  {
   "cell_type": "code",
   "execution_count": null,
   "id": "72da5cf2-600c-420a-b241-223bdb9a6b3f",
   "metadata": {},
   "outputs": [],
   "source": []
  },
  {
   "cell_type": "code",
   "execution_count": null,
   "id": "f729ee82-abeb-4f98-a620-f35cb4c7ce79",
   "metadata": {},
   "outputs": [],
   "source": []
  },
  {
   "cell_type": "code",
   "execution_count": null,
   "id": "36c9269e-69e1-43cf-971b-58e9a32d3973",
   "metadata": {},
   "outputs": [],
   "source": []
  },
  {
   "cell_type": "code",
   "execution_count": null,
   "id": "3cfdb69a-8865-4007-b6bf-2b61570cef69",
   "metadata": {},
   "outputs": [],
   "source": []
  },
  {
   "cell_type": "code",
   "execution_count": null,
   "id": "4241d4a7-8a18-4462-9c13-bc5f56d7e310",
   "metadata": {},
   "outputs": [],
   "source": []
  },
  {
   "cell_type": "code",
   "execution_count": null,
   "id": "3af95647-8200-4552-ad4c-7989b694301d",
   "metadata": {},
   "outputs": [],
   "source": []
  },
  {
   "cell_type": "code",
   "execution_count": null,
   "id": "a4449dcd-e333-40c8-a5ab-2f4ec1fd24a5",
   "metadata": {},
   "outputs": [],
   "source": []
  },
  {
   "cell_type": "code",
   "execution_count": null,
   "id": "a71a09b7-1266-48ff-a9d0-2857c449b9ef",
   "metadata": {},
   "outputs": [],
   "source": []
  },
  {
   "cell_type": "code",
   "execution_count": null,
   "id": "f2cdf2dd-3a47-4d7c-a806-2e5196da482c",
   "metadata": {},
   "outputs": [],
   "source": []
  },
  {
   "cell_type": "code",
   "execution_count": null,
   "id": "e8e1045a-42ea-45f0-b00e-35d16800b4f6",
   "metadata": {},
   "outputs": [],
   "source": []
  },
  {
   "cell_type": "code",
   "execution_count": null,
   "id": "65b41ad1-f918-49bf-ade2-6de8cc5cceeb",
   "metadata": {},
   "outputs": [],
   "source": []
  },
  {
   "cell_type": "code",
   "execution_count": null,
   "id": "a634d889-222e-4c6e-a37f-d8733d3f225a",
   "metadata": {},
   "outputs": [],
   "source": []
  },
  {
   "cell_type": "code",
   "execution_count": null,
   "id": "69896947-7368-43c5-bcb4-1dbd626bd7a8",
   "metadata": {},
   "outputs": [],
   "source": []
  },
  {
   "cell_type": "code",
   "execution_count": null,
   "id": "a5c0e93e-6aad-4c09-a9a2-7cd9be726db3",
   "metadata": {},
   "outputs": [],
   "source": []
  },
  {
   "cell_type": "code",
   "execution_count": null,
   "id": "fa32fcf7-8d77-4836-be0e-082e4892ef78",
   "metadata": {},
   "outputs": [],
   "source": []
  },
  {
   "cell_type": "code",
   "execution_count": null,
   "id": "9ba773f3-afaa-4b68-b2a5-9df337bb3fd4",
   "metadata": {},
   "outputs": [],
   "source": []
  },
  {
   "cell_type": "code",
   "execution_count": null,
   "id": "11ad85eb-bba2-4ec7-9844-728815dfb5b5",
   "metadata": {},
   "outputs": [],
   "source": []
  },
  {
   "cell_type": "code",
   "execution_count": null,
   "id": "5878fece-565f-4216-9c7f-478413d053c4",
   "metadata": {},
   "outputs": [],
   "source": []
  },
  {
   "cell_type": "code",
   "execution_count": null,
   "id": "ff945e2b-3d35-42e4-83e2-eef0f5ff6e65",
   "metadata": {},
   "outputs": [],
   "source": []
  },
  {
   "cell_type": "code",
   "execution_count": null,
   "id": "9163139f-92ba-45a4-b4e8-7874f7b80920",
   "metadata": {},
   "outputs": [],
   "source": []
  },
  {
   "cell_type": "code",
   "execution_count": null,
   "id": "376fa36a-fbaa-4395-a65f-3638cbc3d284",
   "metadata": {},
   "outputs": [],
   "source": []
  },
  {
   "cell_type": "code",
   "execution_count": null,
   "id": "83a6f1d3-1dba-4458-9529-c130e1af139f",
   "metadata": {},
   "outputs": [],
   "source": []
  },
  {
   "cell_type": "code",
   "execution_count": null,
   "id": "5680ec27-b3ae-444d-ac20-e788705836cf",
   "metadata": {},
   "outputs": [],
   "source": []
  },
  {
   "cell_type": "code",
   "execution_count": null,
   "id": "04a7b536-55a5-4829-bb4f-29ab22961d12",
   "metadata": {},
   "outputs": [],
   "source": []
  },
  {
   "cell_type": "code",
   "execution_count": null,
   "id": "7e31e84d-7a4a-4f52-bd2a-551130db8395",
   "metadata": {},
   "outputs": [],
   "source": []
  },
  {
   "cell_type": "code",
   "execution_count": null,
   "id": "32dca6e1-5dda-4f87-abfb-df5372420edc",
   "metadata": {},
   "outputs": [],
   "source": []
  },
  {
   "cell_type": "code",
   "execution_count": null,
   "id": "d1aa55b5-1e9d-4227-ba90-a1ce9925aa52",
   "metadata": {},
   "outputs": [],
   "source": []
  },
  {
   "cell_type": "code",
   "execution_count": null,
   "id": "d208574a-826a-4efb-9097-35939468bff3",
   "metadata": {},
   "outputs": [],
   "source": []
  },
  {
   "cell_type": "code",
   "execution_count": null,
   "id": "f2ca5a78-2000-4a5f-afef-7abca89643ec",
   "metadata": {},
   "outputs": [],
   "source": []
  },
  {
   "cell_type": "code",
   "execution_count": null,
   "id": "e3fe2126-17fb-4df9-b7ac-699388083f25",
   "metadata": {},
   "outputs": [],
   "source": []
  },
  {
   "cell_type": "code",
   "execution_count": null,
   "id": "8ba46ed5-1cb7-42d2-a312-3490479694ef",
   "metadata": {},
   "outputs": [],
   "source": []
  },
  {
   "cell_type": "code",
   "execution_count": null,
   "id": "3233f5c0-bbcd-4bde-8fab-9d18a4310ca9",
   "metadata": {},
   "outputs": [],
   "source": []
  },
  {
   "cell_type": "code",
   "execution_count": null,
   "id": "529ef1a8-679b-4899-b2fe-ca1147b9e785",
   "metadata": {},
   "outputs": [],
   "source": []
  },
  {
   "cell_type": "code",
   "execution_count": null,
   "id": "a72c0d63-8cef-4496-995e-8b093eecc22b",
   "metadata": {},
   "outputs": [],
   "source": []
  },
  {
   "cell_type": "code",
   "execution_count": null,
   "id": "1a143fda-a3a3-41b6-b8b7-792c7198188f",
   "metadata": {},
   "outputs": [],
   "source": []
  },
  {
   "cell_type": "code",
   "execution_count": null,
   "id": "468b2d70-edd3-478f-a888-5a3af5f23aa8",
   "metadata": {},
   "outputs": [],
   "source": []
  },
  {
   "cell_type": "code",
   "execution_count": null,
   "id": "c3f80c57-b43e-4823-b2cf-c83d116e075c",
   "metadata": {},
   "outputs": [],
   "source": []
  },
  {
   "cell_type": "code",
   "execution_count": null,
   "id": "8ca28362-f028-43e6-8a41-bf923ca702fb",
   "metadata": {},
   "outputs": [],
   "source": []
  },
  {
   "cell_type": "code",
   "execution_count": null,
   "id": "2d566965-d9e1-4e7e-994f-4ee826b629f4",
   "metadata": {},
   "outputs": [],
   "source": []
  },
  {
   "cell_type": "code",
   "execution_count": null,
   "id": "a8cad554-8cb4-41c1-bcb6-5287adc93084",
   "metadata": {},
   "outputs": [],
   "source": []
  }
 ],
 "metadata": {
  "kernelspec": {
   "display_name": "Python 3 (ipykernel)",
   "language": "python",
   "name": "python3"
  },
  "language_info": {
   "codemirror_mode": {
    "name": "ipython",
    "version": 3
   },
   "file_extension": ".py",
   "mimetype": "text/x-python",
   "name": "python",
   "nbconvert_exporter": "python",
   "pygments_lexer": "ipython3",
   "version": "3.10.8"
  }
 },
 "nbformat": 4,
 "nbformat_minor": 5
}
