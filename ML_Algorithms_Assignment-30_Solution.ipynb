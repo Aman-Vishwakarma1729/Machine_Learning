{
 "cells": [
  {
   "cell_type": "code",
   "execution_count": 62,
   "id": "acbd8f19-5f33-4837-b1f6-7ecb58a4e3ef",
   "metadata": {},
   "outputs": [],
   "source": [
    "import pandas as pd\n",
    "import numpy as np"
   ]
  },
  {
   "cell_type": "code",
   "execution_count": 14,
   "id": "6c2b45b0-cb9c-40ee-8a52-ebb22a913e06",
   "metadata": {},
   "outputs": [],
   "source": [
    "data = pd.read_csv('Wine_Dataset.csv')\n",
    "data.columns = ['classifer','Alcohol', 'Malic acid', 'Ash', 'Alcalinity of ash', 'Magnesium', 'Total phenols', 'Flavanoids', 'Nonflavanoid phenols', 'Proanthocyanins', 'Color intensity', 'Hue', 'OD280/OD315 of diluted wines', 'Proline']"
   ]
  },
  {
   "cell_type": "code",
   "execution_count": 15,
   "id": "4a45c8e5-ac7d-4901-960e-a6aa5691e0ab",
   "metadata": {},
   "outputs": [
    {
     "data": {
      "text/html": [
       "<div>\n",
       "<style scoped>\n",
       "    .dataframe tbody tr th:only-of-type {\n",
       "        vertical-align: middle;\n",
       "    }\n",
       "\n",
       "    .dataframe tbody tr th {\n",
       "        vertical-align: top;\n",
       "    }\n",
       "\n",
       "    .dataframe thead th {\n",
       "        text-align: right;\n",
       "    }\n",
       "</style>\n",
       "<table border=\"1\" class=\"dataframe\">\n",
       "  <thead>\n",
       "    <tr style=\"text-align: right;\">\n",
       "      <th></th>\n",
       "      <th>classifer</th>\n",
       "      <th>Alcohol</th>\n",
       "      <th>Malic acid</th>\n",
       "      <th>Ash</th>\n",
       "      <th>Alcalinity of ash</th>\n",
       "      <th>Magnesium</th>\n",
       "      <th>Total phenols</th>\n",
       "      <th>Flavanoids</th>\n",
       "      <th>Nonflavanoid phenols</th>\n",
       "      <th>Proanthocyanins</th>\n",
       "      <th>Color intensity</th>\n",
       "      <th>Hue</th>\n",
       "      <th>OD280/OD315 of diluted wines</th>\n",
       "      <th>Proline</th>\n",
       "    </tr>\n",
       "  </thead>\n",
       "  <tbody>\n",
       "    <tr>\n",
       "      <th>0</th>\n",
       "      <td>1</td>\n",
       "      <td>13.20</td>\n",
       "      <td>1.78</td>\n",
       "      <td>2.14</td>\n",
       "      <td>11.2</td>\n",
       "      <td>100</td>\n",
       "      <td>2.65</td>\n",
       "      <td>2.76</td>\n",
       "      <td>0.26</td>\n",
       "      <td>1.28</td>\n",
       "      <td>4.38</td>\n",
       "      <td>1.05</td>\n",
       "      <td>3.40</td>\n",
       "      <td>1050</td>\n",
       "    </tr>\n",
       "    <tr>\n",
       "      <th>1</th>\n",
       "      <td>1</td>\n",
       "      <td>13.16</td>\n",
       "      <td>2.36</td>\n",
       "      <td>2.67</td>\n",
       "      <td>18.6</td>\n",
       "      <td>101</td>\n",
       "      <td>2.80</td>\n",
       "      <td>3.24</td>\n",
       "      <td>0.30</td>\n",
       "      <td>2.81</td>\n",
       "      <td>5.68</td>\n",
       "      <td>1.03</td>\n",
       "      <td>3.17</td>\n",
       "      <td>1185</td>\n",
       "    </tr>\n",
       "    <tr>\n",
       "      <th>2</th>\n",
       "      <td>1</td>\n",
       "      <td>14.37</td>\n",
       "      <td>1.95</td>\n",
       "      <td>2.50</td>\n",
       "      <td>16.8</td>\n",
       "      <td>113</td>\n",
       "      <td>3.85</td>\n",
       "      <td>3.49</td>\n",
       "      <td>0.24</td>\n",
       "      <td>2.18</td>\n",
       "      <td>7.80</td>\n",
       "      <td>0.86</td>\n",
       "      <td>3.45</td>\n",
       "      <td>1480</td>\n",
       "    </tr>\n",
       "    <tr>\n",
       "      <th>3</th>\n",
       "      <td>1</td>\n",
       "      <td>13.24</td>\n",
       "      <td>2.59</td>\n",
       "      <td>2.87</td>\n",
       "      <td>21.0</td>\n",
       "      <td>118</td>\n",
       "      <td>2.80</td>\n",
       "      <td>2.69</td>\n",
       "      <td>0.39</td>\n",
       "      <td>1.82</td>\n",
       "      <td>4.32</td>\n",
       "      <td>1.04</td>\n",
       "      <td>2.93</td>\n",
       "      <td>735</td>\n",
       "    </tr>\n",
       "    <tr>\n",
       "      <th>4</th>\n",
       "      <td>1</td>\n",
       "      <td>14.20</td>\n",
       "      <td>1.76</td>\n",
       "      <td>2.45</td>\n",
       "      <td>15.2</td>\n",
       "      <td>112</td>\n",
       "      <td>3.27</td>\n",
       "      <td>3.39</td>\n",
       "      <td>0.34</td>\n",
       "      <td>1.97</td>\n",
       "      <td>6.75</td>\n",
       "      <td>1.05</td>\n",
       "      <td>2.85</td>\n",
       "      <td>1450</td>\n",
       "    </tr>\n",
       "  </tbody>\n",
       "</table>\n",
       "</div>"
      ],
      "text/plain": [
       "   classifer  Alcohol  Malic acid   Ash  Alcalinity of ash  Magnesium  \\\n",
       "0          1    13.20        1.78  2.14               11.2        100   \n",
       "1          1    13.16        2.36  2.67               18.6        101   \n",
       "2          1    14.37        1.95  2.50               16.8        113   \n",
       "3          1    13.24        2.59  2.87               21.0        118   \n",
       "4          1    14.20        1.76  2.45               15.2        112   \n",
       "\n",
       "   Total phenols  Flavanoids  Nonflavanoid phenols  Proanthocyanins  \\\n",
       "0           2.65        2.76                  0.26             1.28   \n",
       "1           2.80        3.24                  0.30             2.81   \n",
       "2           3.85        3.49                  0.24             2.18   \n",
       "3           2.80        2.69                  0.39             1.82   \n",
       "4           3.27        3.39                  0.34             1.97   \n",
       "\n",
       "   Color intensity   Hue  OD280/OD315 of diluted wines  Proline  \n",
       "0             4.38  1.05                          3.40     1050  \n",
       "1             5.68  1.03                          3.17     1185  \n",
       "2             7.80  0.86                          3.45     1480  \n",
       "3             4.32  1.04                          2.93      735  \n",
       "4             6.75  1.05                          2.85     1450  "
      ]
     },
     "execution_count": 15,
     "metadata": {},
     "output_type": "execute_result"
    }
   ],
   "source": [
    "data.head()"
   ]
  },
  {
   "cell_type": "code",
   "execution_count": 16,
   "id": "7f3cc95a-faf8-4f52-999f-441251075810",
   "metadata": {},
   "outputs": [
    {
     "data": {
      "text/plain": [
       "Index(['classifer', 'Alcohol', 'Malic acid', 'Ash', 'Alcalinity of ash',\n",
       "       'Magnesium', 'Total phenols', 'Flavanoids', 'Nonflavanoid phenols',\n",
       "       'Proanthocyanins', 'Color intensity', 'Hue',\n",
       "       'OD280/OD315 of diluted wines', 'Proline'],\n",
       "      dtype='object')"
      ]
     },
     "execution_count": 16,
     "metadata": {},
     "output_type": "execute_result"
    }
   ],
   "source": [
    "data.columns"
   ]
  },
  {
   "cell_type": "code",
   "execution_count": 18,
   "id": "d2a39dbe-18d8-432e-85c9-e51945cda131",
   "metadata": {},
   "outputs": [
    {
     "data": {
      "text/plain": [
       "(177, 14)"
      ]
     },
     "execution_count": 18,
     "metadata": {},
     "output_type": "execute_result"
    }
   ],
   "source": [
    "data.shape"
   ]
  },
  {
   "cell_type": "code",
   "execution_count": 19,
   "id": "ccd34dcd-f898-4a29-81c4-936925e64f67",
   "metadata": {},
   "outputs": [
    {
     "name": "stdout",
     "output_type": "stream",
     "text": [
      "<class 'pandas.core.frame.DataFrame'>\n",
      "RangeIndex: 177 entries, 0 to 176\n",
      "Data columns (total 14 columns):\n",
      " #   Column                        Non-Null Count  Dtype  \n",
      "---  ------                        --------------  -----  \n",
      " 0   classifer                     177 non-null    int64  \n",
      " 1   Alcohol                       177 non-null    float64\n",
      " 2   Malic acid                    177 non-null    float64\n",
      " 3   Ash                           177 non-null    float64\n",
      " 4   Alcalinity of ash             177 non-null    float64\n",
      " 5   Magnesium                     177 non-null    int64  \n",
      " 6   Total phenols                 177 non-null    float64\n",
      " 7   Flavanoids                    177 non-null    float64\n",
      " 8   Nonflavanoid phenols          177 non-null    float64\n",
      " 9   Proanthocyanins               177 non-null    float64\n",
      " 10  Color intensity               177 non-null    float64\n",
      " 11  Hue                           177 non-null    float64\n",
      " 12  OD280/OD315 of diluted wines  177 non-null    float64\n",
      " 13  Proline                       177 non-null    int64  \n",
      "dtypes: float64(11), int64(3)\n",
      "memory usage: 19.5 KB\n"
     ]
    }
   ],
   "source": [
    "data.info()"
   ]
  },
  {
   "cell_type": "code",
   "execution_count": 20,
   "id": "59320811-adb4-4ee4-8a17-72b098fbd8de",
   "metadata": {},
   "outputs": [
    {
     "data": {
      "text/plain": [
       "classifer                       0\n",
       "Alcohol                         0\n",
       "Malic acid                      0\n",
       "Ash                             0\n",
       "Alcalinity of ash               0\n",
       "Magnesium                       0\n",
       "Total phenols                   0\n",
       "Flavanoids                      0\n",
       "Nonflavanoid phenols            0\n",
       "Proanthocyanins                 0\n",
       "Color intensity                 0\n",
       "Hue                             0\n",
       "OD280/OD315 of diluted wines    0\n",
       "Proline                         0\n",
       "dtype: int64"
      ]
     },
     "execution_count": 20,
     "metadata": {},
     "output_type": "execute_result"
    }
   ],
   "source": [
    "data.isnull().sum()"
   ]
  },
  {
   "cell_type": "code",
   "execution_count": 21,
   "id": "89766035-b777-41f4-a9a4-b46579446358",
   "metadata": {},
   "outputs": [
    {
     "data": {
      "text/plain": [
       "array([1, 2, 3])"
      ]
     },
     "execution_count": 21,
     "metadata": {},
     "output_type": "execute_result"
    }
   ],
   "source": [
    "data['classifer'].unique()"
   ]
  },
  {
   "cell_type": "code",
   "execution_count": 22,
   "id": "2172aad6-ce55-4592-af19-5c96ef9d9ee8",
   "metadata": {},
   "outputs": [
    {
     "data": {
      "text/plain": [
       "2    71\n",
       "1    58\n",
       "3    48\n",
       "Name: classifer, dtype: int64"
      ]
     },
     "execution_count": 22,
     "metadata": {},
     "output_type": "execute_result"
    }
   ],
   "source": [
    "data['classifer'].value_counts()"
   ]
  },
  {
   "cell_type": "code",
   "execution_count": 23,
   "id": "c0429e87-bfab-492f-9fba-f132d66b5551",
   "metadata": {},
   "outputs": [],
   "source": [
    "X = data[['Alcohol', 'Malic acid', 'Ash', 'Alcalinity of ash','Magnesium', 'Total phenols', \n",
    "          'Flavanoids', 'Nonflavanoid phenols', 'Proanthocyanins', 'Color intensity', 'Hue',\n",
    "           'OD280/OD315 of diluted wines', 'Proline']]\n",
    "y = data['classifer']"
   ]
  },
  {
   "cell_type": "code",
   "execution_count": 24,
   "id": "d6eb38e2-49e4-4b6c-894c-d81f8df9b181",
   "metadata": {},
   "outputs": [
    {
     "data": {
      "text/html": [
       "<div>\n",
       "<style scoped>\n",
       "    .dataframe tbody tr th:only-of-type {\n",
       "        vertical-align: middle;\n",
       "    }\n",
       "\n",
       "    .dataframe tbody tr th {\n",
       "        vertical-align: top;\n",
       "    }\n",
       "\n",
       "    .dataframe thead th {\n",
       "        text-align: right;\n",
       "    }\n",
       "</style>\n",
       "<table border=\"1\" class=\"dataframe\">\n",
       "  <thead>\n",
       "    <tr style=\"text-align: right;\">\n",
       "      <th></th>\n",
       "      <th>Alcohol</th>\n",
       "      <th>Malic acid</th>\n",
       "      <th>Ash</th>\n",
       "      <th>Alcalinity of ash</th>\n",
       "      <th>Magnesium</th>\n",
       "      <th>Total phenols</th>\n",
       "      <th>Flavanoids</th>\n",
       "      <th>Nonflavanoid phenols</th>\n",
       "      <th>Proanthocyanins</th>\n",
       "      <th>Color intensity</th>\n",
       "      <th>Hue</th>\n",
       "      <th>OD280/OD315 of diluted wines</th>\n",
       "      <th>Proline</th>\n",
       "    </tr>\n",
       "  </thead>\n",
       "  <tbody>\n",
       "    <tr>\n",
       "      <th>Alcohol</th>\n",
       "      <td>1.000000</td>\n",
       "      <td>0.099963</td>\n",
       "      <td>0.210964</td>\n",
       "      <td>-0.303350</td>\n",
       "      <td>0.258742</td>\n",
       "      <td>0.284543</td>\n",
       "      <td>0.230133</td>\n",
       "      <td>-0.151445</td>\n",
       "      <td>0.127561</td>\n",
       "      <td>0.547883</td>\n",
       "      <td>-0.075375</td>\n",
       "      <td>0.057417</td>\n",
       "      <td>0.641068</td>\n",
       "    </tr>\n",
       "    <tr>\n",
       "      <th>Malic acid</th>\n",
       "      <td>0.099963</td>\n",
       "      <td>1.000000</td>\n",
       "      <td>0.164955</td>\n",
       "      <td>0.286148</td>\n",
       "      <td>-0.049049</td>\n",
       "      <td>-0.333512</td>\n",
       "      <td>-0.409324</td>\n",
       "      <td>0.291501</td>\n",
       "      <td>-0.217975</td>\n",
       "      <td>0.250053</td>\n",
       "      <td>-0.560854</td>\n",
       "      <td>-0.366720</td>\n",
       "      <td>-0.189512</td>\n",
       "    </tr>\n",
       "    <tr>\n",
       "      <th>Ash</th>\n",
       "      <td>0.210964</td>\n",
       "      <td>0.164955</td>\n",
       "      <td>1.000000</td>\n",
       "      <td>0.446698</td>\n",
       "      <td>0.287107</td>\n",
       "      <td>0.128176</td>\n",
       "      <td>0.114084</td>\n",
       "      <td>0.187354</td>\n",
       "      <td>0.008082</td>\n",
       "      <td>0.258643</td>\n",
       "      <td>-0.075181</td>\n",
       "      <td>0.001503</td>\n",
       "      <td>0.222979</td>\n",
       "    </tr>\n",
       "    <tr>\n",
       "      <th>Alcalinity of ash</th>\n",
       "      <td>-0.303350</td>\n",
       "      <td>0.286148</td>\n",
       "      <td>0.446698</td>\n",
       "      <td>1.000000</td>\n",
       "      <td>-0.071707</td>\n",
       "      <td>-0.317583</td>\n",
       "      <td>-0.346922</td>\n",
       "      <td>0.359395</td>\n",
       "      <td>-0.190779</td>\n",
       "      <td>0.020478</td>\n",
       "      <td>-0.272719</td>\n",
       "      <td>-0.268186</td>\n",
       "      <td>-0.436858</td>\n",
       "    </tr>\n",
       "    <tr>\n",
       "      <th>Magnesium</th>\n",
       "      <td>0.258742</td>\n",
       "      <td>-0.049049</td>\n",
       "      <td>0.287107</td>\n",
       "      <td>-0.071707</td>\n",
       "      <td>1.000000</td>\n",
       "      <td>0.208200</td>\n",
       "      <td>0.187101</td>\n",
       "      <td>-0.252091</td>\n",
       "      <td>0.226504</td>\n",
       "      <td>0.199337</td>\n",
       "      <td>0.052042</td>\n",
       "      <td>0.046961</td>\n",
       "      <td>0.387542</td>\n",
       "    </tr>\n",
       "    <tr>\n",
       "      <th>Total phenols</th>\n",
       "      <td>0.284543</td>\n",
       "      <td>-0.333512</td>\n",
       "      <td>0.128176</td>\n",
       "      <td>-0.317583</td>\n",
       "      <td>0.208200</td>\n",
       "      <td>1.000000</td>\n",
       "      <td>0.864046</td>\n",
       "      <td>-0.448301</td>\n",
       "      <td>0.610533</td>\n",
       "      <td>-0.056401</td>\n",
       "      <td>0.432987</td>\n",
       "      <td>0.699566</td>\n",
       "      <td>0.495839</td>\n",
       "    </tr>\n",
       "    <tr>\n",
       "      <th>Flavanoids</th>\n",
       "      <td>0.230133</td>\n",
       "      <td>-0.409324</td>\n",
       "      <td>0.114084</td>\n",
       "      <td>-0.346922</td>\n",
       "      <td>0.187101</td>\n",
       "      <td>0.864046</td>\n",
       "      <td>1.000000</td>\n",
       "      <td>-0.536326</td>\n",
       "      <td>0.650254</td>\n",
       "      <td>-0.174411</td>\n",
       "      <td>0.543208</td>\n",
       "      <td>0.786372</td>\n",
       "      <td>0.491180</td>\n",
       "    </tr>\n",
       "    <tr>\n",
       "      <th>Nonflavanoid phenols</th>\n",
       "      <td>-0.151445</td>\n",
       "      <td>0.291501</td>\n",
       "      <td>0.187354</td>\n",
       "      <td>0.359395</td>\n",
       "      <td>-0.252091</td>\n",
       "      <td>-0.448301</td>\n",
       "      <td>-0.536326</td>\n",
       "      <td>1.000000</td>\n",
       "      <td>-0.363268</td>\n",
       "      <td>0.140192</td>\n",
       "      <td>-0.261709</td>\n",
       "      <td>-0.501859</td>\n",
       "      <td>-0.308886</td>\n",
       "    </tr>\n",
       "    <tr>\n",
       "      <th>Proanthocyanins</th>\n",
       "      <td>0.127561</td>\n",
       "      <td>-0.217975</td>\n",
       "      <td>0.008082</td>\n",
       "      <td>-0.190779</td>\n",
       "      <td>0.226504</td>\n",
       "      <td>0.610533</td>\n",
       "      <td>0.650254</td>\n",
       "      <td>-0.363268</td>\n",
       "      <td>1.000000</td>\n",
       "      <td>-0.027112</td>\n",
       "      <td>0.294397</td>\n",
       "      <td>0.513415</td>\n",
       "      <td>0.325731</td>\n",
       "    </tr>\n",
       "    <tr>\n",
       "      <th>Color intensity</th>\n",
       "      <td>0.547883</td>\n",
       "      <td>0.250053</td>\n",
       "      <td>0.258643</td>\n",
       "      <td>0.020478</td>\n",
       "      <td>0.199337</td>\n",
       "      <td>-0.056401</td>\n",
       "      <td>-0.174411</td>\n",
       "      <td>0.140192</td>\n",
       "      <td>-0.027112</td>\n",
       "      <td>1.000000</td>\n",
       "      <td>-0.522615</td>\n",
       "      <td>-0.435744</td>\n",
       "      <td>0.315632</td>\n",
       "    </tr>\n",
       "    <tr>\n",
       "      <th>Hue</th>\n",
       "      <td>-0.075375</td>\n",
       "      <td>-0.560854</td>\n",
       "      <td>-0.075181</td>\n",
       "      <td>-0.272719</td>\n",
       "      <td>0.052042</td>\n",
       "      <td>0.432987</td>\n",
       "      <td>0.543208</td>\n",
       "      <td>-0.261709</td>\n",
       "      <td>0.294397</td>\n",
       "      <td>-0.522615</td>\n",
       "      <td>1.000000</td>\n",
       "      <td>0.567395</td>\n",
       "      <td>0.234879</td>\n",
       "    </tr>\n",
       "    <tr>\n",
       "      <th>OD280/OD315 of diluted wines</th>\n",
       "      <td>0.057417</td>\n",
       "      <td>-0.366720</td>\n",
       "      <td>0.001503</td>\n",
       "      <td>-0.268186</td>\n",
       "      <td>0.046961</td>\n",
       "      <td>0.699566</td>\n",
       "      <td>0.786372</td>\n",
       "      <td>-0.501859</td>\n",
       "      <td>0.513415</td>\n",
       "      <td>-0.435744</td>\n",
       "      <td>0.567395</td>\n",
       "      <td>1.000000</td>\n",
       "      <td>0.306031</td>\n",
       "    </tr>\n",
       "    <tr>\n",
       "      <th>Proline</th>\n",
       "      <td>0.641068</td>\n",
       "      <td>-0.189512</td>\n",
       "      <td>0.222979</td>\n",
       "      <td>-0.436858</td>\n",
       "      <td>0.387542</td>\n",
       "      <td>0.495839</td>\n",
       "      <td>0.491180</td>\n",
       "      <td>-0.308886</td>\n",
       "      <td>0.325731</td>\n",
       "      <td>0.315632</td>\n",
       "      <td>0.234879</td>\n",
       "      <td>0.306031</td>\n",
       "      <td>1.000000</td>\n",
       "    </tr>\n",
       "  </tbody>\n",
       "</table>\n",
       "</div>"
      ],
      "text/plain": [
       "                               Alcohol  Malic acid       Ash  \\\n",
       "Alcohol                       1.000000    0.099963  0.210964   \n",
       "Malic acid                    0.099963    1.000000  0.164955   \n",
       "Ash                           0.210964    0.164955  1.000000   \n",
       "Alcalinity of ash            -0.303350    0.286148  0.446698   \n",
       "Magnesium                     0.258742   -0.049049  0.287107   \n",
       "Total phenols                 0.284543   -0.333512  0.128176   \n",
       "Flavanoids                    0.230133   -0.409324  0.114084   \n",
       "Nonflavanoid phenols         -0.151445    0.291501  0.187354   \n",
       "Proanthocyanins               0.127561   -0.217975  0.008082   \n",
       "Color intensity               0.547883    0.250053  0.258643   \n",
       "Hue                          -0.075375   -0.560854 -0.075181   \n",
       "OD280/OD315 of diluted wines  0.057417   -0.366720  0.001503   \n",
       "Proline                       0.641068   -0.189512  0.222979   \n",
       "\n",
       "                              Alcalinity of ash  Magnesium  Total phenols  \\\n",
       "Alcohol                               -0.303350   0.258742       0.284543   \n",
       "Malic acid                             0.286148  -0.049049      -0.333512   \n",
       "Ash                                    0.446698   0.287107       0.128176   \n",
       "Alcalinity of ash                      1.000000  -0.071707      -0.317583   \n",
       "Magnesium                             -0.071707   1.000000       0.208200   \n",
       "Total phenols                         -0.317583   0.208200       1.000000   \n",
       "Flavanoids                            -0.346922   0.187101       0.864046   \n",
       "Nonflavanoid phenols                   0.359395  -0.252091      -0.448301   \n",
       "Proanthocyanins                       -0.190779   0.226504       0.610533   \n",
       "Color intensity                        0.020478   0.199337      -0.056401   \n",
       "Hue                                   -0.272719   0.052042       0.432987   \n",
       "OD280/OD315 of diluted wines          -0.268186   0.046961       0.699566   \n",
       "Proline                               -0.436858   0.387542       0.495839   \n",
       "\n",
       "                              Flavanoids  Nonflavanoid phenols  \\\n",
       "Alcohol                         0.230133             -0.151445   \n",
       "Malic acid                     -0.409324              0.291501   \n",
       "Ash                             0.114084              0.187354   \n",
       "Alcalinity of ash              -0.346922              0.359395   \n",
       "Magnesium                       0.187101             -0.252091   \n",
       "Total phenols                   0.864046             -0.448301   \n",
       "Flavanoids                      1.000000             -0.536326   \n",
       "Nonflavanoid phenols           -0.536326              1.000000   \n",
       "Proanthocyanins                 0.650254             -0.363268   \n",
       "Color intensity                -0.174411              0.140192   \n",
       "Hue                             0.543208             -0.261709   \n",
       "OD280/OD315 of diluted wines    0.786372             -0.501859   \n",
       "Proline                         0.491180             -0.308886   \n",
       "\n",
       "                              Proanthocyanins  Color intensity       Hue  \\\n",
       "Alcohol                              0.127561         0.547883 -0.075375   \n",
       "Malic acid                          -0.217975         0.250053 -0.560854   \n",
       "Ash                                  0.008082         0.258643 -0.075181   \n",
       "Alcalinity of ash                   -0.190779         0.020478 -0.272719   \n",
       "Magnesium                            0.226504         0.199337  0.052042   \n",
       "Total phenols                        0.610533        -0.056401  0.432987   \n",
       "Flavanoids                           0.650254        -0.174411  0.543208   \n",
       "Nonflavanoid phenols                -0.363268         0.140192 -0.261709   \n",
       "Proanthocyanins                      1.000000        -0.027112  0.294397   \n",
       "Color intensity                     -0.027112         1.000000 -0.522615   \n",
       "Hue                                  0.294397        -0.522615  1.000000   \n",
       "OD280/OD315 of diluted wines         0.513415        -0.435744  0.567395   \n",
       "Proline                              0.325731         0.315632  0.234879   \n",
       "\n",
       "                              OD280/OD315 of diluted wines   Proline  \n",
       "Alcohol                                           0.057417  0.641068  \n",
       "Malic acid                                       -0.366720 -0.189512  \n",
       "Ash                                               0.001503  0.222979  \n",
       "Alcalinity of ash                                -0.268186 -0.436858  \n",
       "Magnesium                                         0.046961  0.387542  \n",
       "Total phenols                                     0.699566  0.495839  \n",
       "Flavanoids                                        0.786372  0.491180  \n",
       "Nonflavanoid phenols                             -0.501859 -0.308886  \n",
       "Proanthocyanins                                   0.513415  0.325731  \n",
       "Color intensity                                  -0.435744  0.315632  \n",
       "Hue                                               0.567395  0.234879  \n",
       "OD280/OD315 of diluted wines                      1.000000  0.306031  \n",
       "Proline                                           0.306031  1.000000  "
      ]
     },
     "execution_count": 24,
     "metadata": {},
     "output_type": "execute_result"
    }
   ],
   "source": [
    "X.corr()"
   ]
  },
  {
   "cell_type": "code",
   "execution_count": 25,
   "id": "02add36c-994e-4ea0-944c-a108dcdd3794",
   "metadata": {},
   "outputs": [],
   "source": [
    "from sklearn.model_selection import train_test_split\n",
    "X_train,X_test,y_train,y_test = train_test_split(X,y,train_size=0.25,random_state=0)"
   ]
  },
  {
   "cell_type": "code",
   "execution_count": 27,
   "id": "7f43700e-65a3-4233-aaf4-a1f73a1eddbd",
   "metadata": {},
   "outputs": [],
   "source": [
    "from sklearn.preprocessing import StandardScaler\n",
    "scaler = StandardScaler()\n",
    "X_train_scaled = scaler.fit_transform(X_train)\n",
    "X_test_scaled = scaler.transform(X_test)"
   ]
  },
  {
   "cell_type": "code",
   "execution_count": 79,
   "id": "2f602df3-c763-4b17-bb33-0eb7997a0fee",
   "metadata": {},
   "outputs": [],
   "source": [
    "from sklearn.decomposition import PCA\n",
    "pca = PCA(n_components=2)"
   ]
  },
  {
   "cell_type": "code",
   "execution_count": 80,
   "id": "7b6172b8-e197-4309-bbbf-79ec6baa2397",
   "metadata": {},
   "outputs": [],
   "source": [
    "X_train_pca = pca.fit_transform(X_train_scaled)\n",
    "X_test_pca = pca.transform(X_test_scaled)"
   ]
  },
  {
   "cell_type": "code",
   "execution_count": 81,
   "id": "e563910e-e237-4bb5-8570-9936581f6241",
   "metadata": {},
   "outputs": [
    {
     "data": {
      "text/plain": [
       "array([[ 3.66791302, -2.45663931],\n",
       "       [ 2.60215861, -1.98257044],\n",
       "       [-2.37635091,  0.86919228],\n",
       "       [ 2.21591139, -1.00554907],\n",
       "       [-2.06160239, -0.27063868],\n",
       "       [-1.54757571,  1.00408085],\n",
       "       [ 2.16888879, -0.36265882],\n",
       "       [ 2.31338028, -0.17578564],\n",
       "       [ 0.78441859,  3.69361352],\n",
       "       [ 1.76493917, -0.04812169],\n",
       "       [-3.52604634, -1.14750152],\n",
       "       [-0.04707601,  1.71665198],\n",
       "       [-3.00852362, -1.12996244],\n",
       "       [ 2.19857633, -1.59679615],\n",
       "       [-2.28530887, -0.46356534],\n",
       "       [-2.11460372, -2.48784593],\n",
       "       [-2.69890114, -1.37043861],\n",
       "       [ 2.94550308, -1.47884301],\n",
       "       [ 0.80405038,  2.40698481],\n",
       "       [-2.32982454,  0.15878707],\n",
       "       [ 0.87360145,  3.20960251],\n",
       "       [-0.08488382,  2.76206129],\n",
       "       [-2.85049551, -1.94992743],\n",
       "       [-2.48103709, -1.9586069 ],\n",
       "       [ 3.41319052, -0.7539114 ],\n",
       "       [ 1.34535105,  0.99143555],\n",
       "       [ 1.86275202, -0.70994155],\n",
       "       [-0.19032255,  2.16091086],\n",
       "       [-3.05148657, -1.03335369],\n",
       "       [-2.08671833, -2.80544486],\n",
       "       [ 2.78966277, -0.78846412],\n",
       "       [-1.33599251,  3.51310062],\n",
       "       [-2.33460293, -0.21512954],\n",
       "       [-0.25415664,  2.5307248 ],\n",
       "       [ 2.14891032,  0.37621081],\n",
       "       [-0.9005367 ,  1.75378346],\n",
       "       [ 1.23992114, -0.19617221],\n",
       "       [ 2.62651101, -0.0118755 ],\n",
       "       [ 3.69263052, -1.38335298],\n",
       "       [ 0.54383575,  2.06314327],\n",
       "       [-0.76291764,  0.48470826],\n",
       "       [-2.58611864,  1.43551846],\n",
       "       [ 2.24425033, -1.30340248],\n",
       "       [-3.33127434, -2.04401109]])"
      ]
     },
     "execution_count": 81,
     "metadata": {},
     "output_type": "execute_result"
    }
   ],
   "source": [
    "X_train_pca"
   ]
  },
  {
   "cell_type": "code",
   "execution_count": 82,
   "id": "2fa2d82e-ce7a-456b-8705-52740a817b35",
   "metadata": {},
   "outputs": [
    {
     "data": {
      "text/plain": [
       "array([[ 0.13744286, -0.2666175 ,  0.01780372, -0.11096535,  0.18886398,\n",
       "         0.40063049,  0.41914663, -0.27062374,  0.3376619 , -0.13823818,\n",
       "         0.32702105,  0.36843305,  0.27656421],\n",
       "       [-0.46775355, -0.2852365 , -0.39895541, -0.06058314, -0.31723983,\n",
       "        -0.06155771, -0.06049031,  0.06227995, -0.04676011, -0.49166836,\n",
       "         0.27157223,  0.14945523, -0.29159916]])"
      ]
     },
     "execution_count": 82,
     "metadata": {},
     "output_type": "execute_result"
    }
   ],
   "source": [
    "pca.components_"
   ]
  },
  {
   "cell_type": "code",
   "execution_count": 83,
   "id": "cc7e0df8-dc52-47fe-83c5-06356a74dd79",
   "metadata": {},
   "outputs": [
    {
     "data": {
      "text/plain": [
       "0.3063570703257301"
      ]
     },
     "execution_count": 83,
     "metadata": {},
     "output_type": "execute_result"
    }
   ],
   "source": [
    "np.mean(pca.explained_variance_ratio_)"
   ]
  },
  {
   "cell_type": "code",
   "execution_count": 84,
   "id": "340d2b8d-2603-4a7e-b14a-1c4cb556e99a",
   "metadata": {},
   "outputs": [
    {
     "data": {
      "text/plain": [
       "<AxesSubplot: >"
      ]
     },
     "execution_count": 84,
     "metadata": {},
     "output_type": "execute_result"
    },
    {
     "data": {
      "image/png": "[encoded data removed]",
      "text/plain": [
       "<Figure size 640x480 with 1 Axes>"
      ]
     },
     "metadata": {},
     "output_type": "display_data"
    }
   ],
   "source": [
    "import seaborn as sns\n",
    "sns.scatterplot(X_train_pca)"
   ]
  },
  {
   "cell_type": "code",
   "execution_count": null,
   "id": "7275e5aa-0a1c-46f8-9685-960440317bb9",
   "metadata": {},
   "outputs": [],
   "source": []
  },
  {
   "cell_type": "code",
   "execution_count": null,
   "id": "014f2d3f-e974-4649-8196-4c7305e72013",
   "metadata": {},
   "outputs": [],
   "source": []
  },
  {
   "cell_type": "code",
   "execution_count": null,
   "id": "6c4ddec9-87d6-41c0-b858-a5ed13282e36",
   "metadata": {},
   "outputs": [],
   "source": []
  },
  {
   "cell_type": "code",
   "execution_count": null,
   "id": "f3537174-f01f-4077-8546-bab7219f45c5",
   "metadata": {},
   "outputs": [],
   "source": []
  },
  {
   "cell_type": "code",
   "execution_count": null,
   "id": "4115a123-e079-4ff5-b909-c1b351969859",
   "metadata": {},
   "outputs": [],
   "source": []
  },
  {
   "cell_type": "code",
   "execution_count": null,
   "id": "f4ac42f1-6251-4c7d-b866-d04ad900d4bf",
   "metadata": {},
   "outputs": [],
   "source": []
  },
  {
   "cell_type": "code",
   "execution_count": null,
   "id": "5b974aa8-798f-4764-bba0-d5b9d04943d5",
   "metadata": {},
   "outputs": [],
   "source": []
  },
  {
   "cell_type": "code",
   "execution_count": null,
   "id": "96d0a2d2-cc03-460a-af4e-16385f7bbecd",
   "metadata": {},
   "outputs": [],
   "source": []
  },
  {
   "cell_type": "code",
   "execution_count": null,
   "id": "db5e7481-f2aa-488f-aa64-89b3a0eb478a",
   "metadata": {},
   "outputs": [],
   "source": []
  },
  {
   "cell_type": "code",
   "execution_count": null,
   "id": "3006ed70-8ed9-42b9-90c1-62d8e9635de3",
   "metadata": {},
   "outputs": [],
   "source": []
  },
  {
   "cell_type": "code",
   "execution_count": null,
   "id": "99f7c27a-dbbc-4c37-ba38-2d49c7cfe9a8",
   "metadata": {},
   "outputs": [],
   "source": []
  },
  {
   "cell_type": "code",
   "execution_count": null,
   "id": "4d8bbee1-3b61-40ea-8c4b-f503584cec34",
   "metadata": {},
   "outputs": [],
   "source": []
  },
  {
   "cell_type": "code",
   "execution_count": null,
   "id": "bb3fddec-3d36-4a32-861a-f7e36d29d244",
   "metadata": {},
   "outputs": [],
   "source": []
  },
  {
   "cell_type": "code",
   "execution_count": null,
   "id": "2c67437f-7994-4e13-bb26-0bde31be4ab7",
   "metadata": {},
   "outputs": [],
   "source": []
  },
  {
   "cell_type": "code",
   "execution_count": null,
   "id": "4ccae862-9625-4972-85e6-a3e44030e3ed",
   "metadata": {},
   "outputs": [],
   "source": []
  },
  {
   "cell_type": "code",
   "execution_count": null,
   "id": "4d86d566-829a-4a9d-8294-0fbbdbfb197c",
   "metadata": {},
   "outputs": [],
   "source": []
  },
  {
   "cell_type": "code",
   "execution_count": null,
   "id": "f8c8bba6-103d-4269-9b62-b5148614b13e",
   "metadata": {},
   "outputs": [],
   "source": []
  },
  {
   "cell_type": "code",
   "execution_count": null,
   "id": "2fd15326-63a3-4cb4-a969-887cf60d255a",
   "metadata": {},
   "outputs": [],
   "source": []
  },
  {
   "cell_type": "code",
   "execution_count": null,
   "id": "98aef513-3879-447b-b657-0e03a5c3d185",
   "metadata": {},
   "outputs": [],
   "source": []
  },
  {
   "cell_type": "code",
   "execution_count": null,
   "id": "b2b8b010-0700-46a3-8a54-dd4037a76d6c",
   "metadata": {},
   "outputs": [],
   "source": []
  },
  {
   "cell_type": "code",
   "execution_count": null,
   "id": "120ddc49-63fa-4733-a7e2-96fd29da45c2",
   "metadata": {},
   "outputs": [],
   "source": []
  },
  {
   "cell_type": "code",
   "execution_count": null,
   "id": "8dff82eb-62c0-41f8-8345-b5ec51911a25",
   "metadata": {},
   "outputs": [],
   "source": []
  },
  {
   "cell_type": "code",
   "execution_count": null,
   "id": "50bbf94e-efc0-4932-a613-932c65378e88",
   "metadata": {},
   "outputs": [],
   "source": []
  },
  {
   "cell_type": "code",
   "execution_count": null,
   "id": "8cf63e1f-cbfb-422c-ba02-2429db759ce4",
   "metadata": {},
   "outputs": [],
   "source": []
  },
  {
   "cell_type": "code",
   "execution_count": null,
   "id": "f784cfba-abfb-40f2-a97e-fd4fa28b8294",
   "metadata": {},
   "outputs": [],
   "source": []
  },
  {
   "cell_type": "code",
   "execution_count": null,
   "id": "fa4b618e-cd48-42c5-976b-76f30675be4b",
   "metadata": {},
   "outputs": [],
   "source": []
  },
  {
   "cell_type": "code",
   "execution_count": null,
   "id": "730808c5-7668-4fdb-9623-bc049aaca4e5",
   "metadata": {},
   "outputs": [],
   "source": []
  },
  {
   "cell_type": "code",
   "execution_count": null,
   "id": "f6333321-ad1c-4469-ab50-0d8a3e740925",
   "metadata": {},
   "outputs": [],
   "source": []
  },
  {
   "cell_type": "code",
   "execution_count": null,
   "id": "416c3218-61ce-4291-86ad-c7dc4812cafa",
   "metadata": {},
   "outputs": [],
   "source": []
  },
  {
   "cell_type": "code",
   "execution_count": null,
   "id": "4f38a901-d7cd-482e-8bc7-47e33555ab5d",
   "metadata": {},
   "outputs": [],
   "source": []
  },
  {
   "cell_type": "code",
   "execution_count": null,
   "id": "10f00b85-8652-40df-99cd-ff1ca707117d",
   "metadata": {},
   "outputs": [],
   "source": []
  },
  {
   "cell_type": "code",
   "execution_count": null,
   "id": "cd1dbb53-6e89-495e-8828-146bfa18c459",
   "metadata": {},
   "outputs": [],
   "source": []
  },
  {
   "cell_type": "code",
   "execution_count": null,
   "id": "b146cc59-2b99-4e85-92ae-dfd3b239e25d",
   "metadata": {},
   "outputs": [],
   "source": []
  },
  {
   "cell_type": "code",
   "execution_count": null,
   "id": "ecd8e280-7470-4bde-9836-172758006064",
   "metadata": {},
   "outputs": [],
   "source": []
  },
  {
   "cell_type": "code",
   "execution_count": null,
   "id": "11215f52-1e9d-42f1-85c2-d6e16d2eb488",
   "metadata": {},
   "outputs": [],
   "source": []
  },
  {
   "cell_type": "code",
   "execution_count": null,
   "id": "2bb883a4-9424-4ed9-bac8-07a346e2cd38",
   "metadata": {},
   "outputs": [],
   "source": []
  },
  {
   "cell_type": "code",
   "execution_count": null,
   "id": "62ee5781-5953-4b63-8796-e2b93b3d9765",
   "metadata": {},
   "outputs": [],
   "source": []
  },
  {
   "cell_type": "code",
   "execution_count": null,
   "id": "d0146478-dbc3-4c7e-a045-5ad9bd446f55",
   "metadata": {},
   "outputs": [],
   "source": []
  },
  {
   "cell_type": "code",
   "execution_count": null,
   "id": "17edc8ea-58c0-4f8b-a6b5-2a39eee83cc1",
   "metadata": {},
   "outputs": [],
   "source": []
  },
  {
   "cell_type": "code",
   "execution_count": null,
   "id": "4c41ed67-6334-4716-9262-be1b4e34b703",
   "metadata": {},
   "outputs": [],
   "source": []
  },
  {
   "cell_type": "code",
   "execution_count": null,
   "id": "a7fa99dd-6499-4bf7-9b2b-a23e67cd5c5a",
   "metadata": {},
   "outputs": [],
   "source": []
  },
  {
   "cell_type": "code",
   "execution_count": null,
   "id": "c0f379bf-64f9-458f-b2e1-234423af0831",
   "metadata": {},
   "outputs": [],
   "source": []
  },
  {
   "cell_type": "code",
   "execution_count": null,
   "id": "ad882e09-e04c-4f41-bf84-b00cb9dbcf10",
   "metadata": {},
   "outputs": [],
   "source": []
  },
  {
   "cell_type": "code",
   "execution_count": null,
   "id": "efd5c19e-7652-4e54-9897-329fa161241f",
   "metadata": {},
   "outputs": [],
   "source": []
  },
  {
   "cell_type": "code",
   "execution_count": null,
   "id": "05b096cc-b5da-4780-8dfb-abab8f4e19b4",
   "metadata": {},
   "outputs": [],
   "source": []
  },
  {
   "cell_type": "code",
   "execution_count": null,
   "id": "e9d1eaca-badd-4260-8148-68bc6fc964b6",
   "metadata": {},
   "outputs": [],
   "source": []
  },
  {
   "cell_type": "code",
   "execution_count": null,
   "id": "549ed653-bf8c-4773-9e09-45fa4a804391",
   "metadata": {},
   "outputs": [],
   "source": []
  },
  {
   "cell_type": "code",
   "execution_count": null,
   "id": "b07b7977-c53f-4f14-a7fe-4d86f4e89042",
   "metadata": {},
   "outputs": [],
   "source": []
  },
  {
   "cell_type": "code",
   "execution_count": null,
   "id": "daef9a46-81cd-4fa7-80a2-85785ac60a54",
   "metadata": {},
   "outputs": [],
   "source": []
  },
  {
   "cell_type": "code",
   "execution_count": null,
   "id": "1bd3a691-e600-4473-829e-549df5a438c4",
   "metadata": {},
   "outputs": [],
   "source": []
  },
  {
   "cell_type": "code",
   "execution_count": null,
   "id": "74ca2745-6467-4248-9bb9-134745ae6f17",
   "metadata": {},
   "outputs": [],
   "source": []
  },
  {
   "cell_type": "code",
   "execution_count": null,
   "id": "e57c3965-b8cb-49ff-aed2-7c76b41cc98d",
   "metadata": {},
   "outputs": [],
   "source": []
  },
  {
   "cell_type": "code",
   "execution_count": null,
   "id": "c21595aa-0d62-436e-bc35-0a54cc3fcd4a",
   "metadata": {},
   "outputs": [],
   "source": []
  },
  {
   "cell_type": "code",
   "execution_count": null,
   "id": "180592fa-b5e9-4474-bb08-b0d13fd3f830",
   "metadata": {},
   "outputs": [],
   "source": []
  },
  {
   "cell_type": "code",
   "execution_count": null,
   "id": "20ab050a-e14a-40cc-82dc-552934a93dce",
   "metadata": {},
   "outputs": [],
   "source": []
  },
  {
   "cell_type": "code",
   "execution_count": null,
   "id": "8195da94-79d8-41cc-95bc-83a7068d4ab6",
   "metadata": {},
   "outputs": [],
   "source": []
  },
  {
   "cell_type": "code",
   "execution_count": null,
   "id": "3155a9ed-7818-4be1-a007-3f090dbed683",
   "metadata": {},
   "outputs": [],
   "source": []
  },
  {
   "cell_type": "code",
   "execution_count": null,
   "id": "74400cb9-f236-47f5-8f38-0e7a28a6dbc5",
   "metadata": {},
   "outputs": [],
   "source": []
  },
  {
   "cell_type": "code",
   "execution_count": null,
   "id": "ca97ad07-92b0-44db-b149-2e20831fb164",
   "metadata": {},
   "outputs": [],
   "source": []
  },
  {
   "cell_type": "code",
   "execution_count": null,
   "id": "6e6ad7c9-a5d5-4844-9959-85d6673abec6",
   "metadata": {},
   "outputs": [],
   "source": []
  },
  {
   "cell_type": "code",
   "execution_count": null,
   "id": "d2ea28e0-d053-4511-b589-6443d28e39d9",
   "metadata": {},
   "outputs": [],
   "source": []
  },
  {
   "cell_type": "code",
   "execution_count": null,
   "id": "24500e11-0da8-48ed-9985-efe4b24657f0",
   "metadata": {},
   "outputs": [],
   "source": []
  },
  {
   "cell_type": "code",
   "execution_count": null,
   "id": "835ae8da-0ade-4b8b-b99e-1fbe0a87e132",
   "metadata": {},
   "outputs": [],
   "source": []
  },
  {
   "cell_type": "code",
   "execution_count": null,
   "id": "42956e44-584c-46ca-8903-be49ac1d9926",
   "metadata": {},
   "outputs": [],
   "source": []
  },
  {
   "cell_type": "code",
   "execution_count": null,
   "id": "b8a31801-2aba-4b00-95ab-04d977cac040",
   "metadata": {},
   "outputs": [],
   "source": []
  },
  {
   "cell_type": "code",
   "execution_count": null,
   "id": "be8376f0-5716-44b9-b803-bd5bb8e24326",
   "metadata": {},
   "outputs": [],
   "source": []
  },
  {
   "cell_type": "code",
   "execution_count": null,
   "id": "e1107e50-5753-4b90-81b1-4c9b149cde90",
   "metadata": {},
   "outputs": [],
   "source": []
  },
  {
   "cell_type": "code",
   "execution_count": null,
   "id": "dba821fe-caa3-43c0-b873-3af5024ba798",
   "metadata": {},
   "outputs": [],
   "source": []
  },
  {
   "cell_type": "code",
   "execution_count": null,
   "id": "58aa2bff-490c-4d1e-8c63-649006a76fe4",
   "metadata": {},
   "outputs": [],
   "source": []
  },
  {
   "cell_type": "code",
   "execution_count": null,
   "id": "edd0e1ff-cb29-4003-b074-61dd1585a59b",
   "metadata": {},
   "outputs": [],
   "source": []
  },
  {
   "cell_type": "code",
   "execution_count": null,
   "id": "490ecf30-3297-463a-b8ba-abce95d1c273",
   "metadata": {},
   "outputs": [],
   "source": []
  },
  {
   "cell_type": "code",
   "execution_count": null,
   "id": "20793dfc-2b84-4842-8b19-921b931464ce",
   "metadata": {},
   "outputs": [],
   "source": []
  },
  {
   "cell_type": "code",
   "execution_count": null,
   "id": "9a489924-1e03-4eb5-93c1-2de47ea537cc",
   "metadata": {},
   "outputs": [],
   "source": []
  },
  {
   "cell_type": "code",
   "execution_count": null,
   "id": "b1d08c85-68d2-429a-b9b5-c5a59dc41847",
   "metadata": {},
   "outputs": [],
   "source": []
  },
  {
   "cell_type": "code",
   "execution_count": null,
   "id": "4ee10719-45dd-4ae1-97fb-10599429ac06",
   "metadata": {},
   "outputs": [],
   "source": []
  },
  {
   "cell_type": "code",
   "execution_count": null,
   "id": "cc3520ab-3f5f-483e-9a14-37ef555d60cf",
   "metadata": {},
   "outputs": [],
   "source": []
  },
  {
   "cell_type": "code",
   "execution_count": null,
   "id": "9c48b283-cd17-4af2-ba16-726eecf6704a",
   "metadata": {},
   "outputs": [],
   "source": []
  },
  {
   "cell_type": "code",
   "execution_count": null,
   "id": "437b5201-4fde-46a1-863f-d169cb941bd3",
   "metadata": {},
   "outputs": [],
   "source": []
  },
  {
   "cell_type": "code",
   "execution_count": null,
   "id": "1745b613-cb31-467a-91fa-db908ceb164b",
   "metadata": {},
   "outputs": [],
   "source": []
  },
  {
   "cell_type": "code",
   "execution_count": null,
   "id": "6a89ca69-efcc-4833-9323-85e276cb5847",
   "metadata": {},
   "outputs": [],
   "source": []
  },
  {
   "cell_type": "code",
   "execution_count": null,
   "id": "8fc12cd0-cfa2-40ed-969b-5c2e60462855",
   "metadata": {},
   "outputs": [],
   "source": []
  },
  {
   "cell_type": "code",
   "execution_count": null,
   "id": "78239daa-b456-4aa1-a398-2dfc8fe97e3e",
   "metadata": {},
   "outputs": [],
   "source": []
  },
  {
   "cell_type": "code",
   "execution_count": null,
   "id": "e0a17adc-9cf1-4250-8ab1-77277c4af0f4",
   "metadata": {},
   "outputs": [],
   "source": []
  },
  {
   "cell_type": "code",
   "execution_count": null,
   "id": "7ff704bc-0827-4016-a524-88c54a3cda8e",
   "metadata": {},
   "outputs": [],
   "source": []
  },
  {
   "cell_type": "code",
   "execution_count": null,
   "id": "0916a5ae-da89-4bfd-aeda-f6a42194690c",
   "metadata": {},
   "outputs": [],
   "source": []
  },
  {
   "cell_type": "code",
   "execution_count": null,
   "id": "f16ab2b3-c1d8-49e0-9b50-e71e1c4caf6d",
   "metadata": {},
   "outputs": [],
   "source": []
  },
  {
   "cell_type": "code",
   "execution_count": null,
   "id": "36a550af-9313-4217-81c1-0b4566470055",
   "metadata": {},
   "outputs": [],
   "source": []
  },
  {
   "cell_type": "code",
   "execution_count": null,
   "id": "08304cfb-325b-4c36-801d-886b234c3054",
   "metadata": {},
   "outputs": [],
   "source": []
  },
  {
   "cell_type": "code",
   "execution_count": null,
   "id": "8537ff4d-0a28-4b3a-9da7-c7e4faf7e0fa",
   "metadata": {},
   "outputs": [],
   "source": []
  },
  {
   "cell_type": "code",
   "execution_count": null,
   "id": "0fa41fde-f061-49ef-a4d8-c0cdb5dd3d3b",
   "metadata": {},
   "outputs": [],
   "source": []
  },
  {
   "cell_type": "code",
   "execution_count": null,
   "id": "20b12732-1f2e-4f10-993b-f0967ddc8629",
   "metadata": {},
   "outputs": [],
   "source": []
  }
 ],
 "metadata": {
  "kernelspec": {
   "display_name": "Python 3 (ipykernel)",
   "language": "python",
   "name": "python3"
  },
  "language_info": {
   "codemirror_mode": {
    "name": "ipython",
    "version": 3
   },
   "file_extension": ".py",
   "mimetype": "text/x-python",
   "name": "python",
   "nbconvert_exporter": "python",
   "pygments_lexer": "ipython3",
   "version": "3.10.8"
  }
 },
 "nbformat": 4,
 "nbformat_minor": 5
}
